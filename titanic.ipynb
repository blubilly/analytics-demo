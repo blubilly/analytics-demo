{
 "cells": [
  {
   "cell_type": "markdown",
   "metadata": {},
   "source": [
    "# Titanic: Predict survival on the Titanic with AWS Glue.\n",
    "### 타이타닉 사고에서 어떤 승객이 살아남을 수 있을 지 예측해보세요\n",
    "##### Kaggle은 2010년 설립된 예측모델 및 분석 대회 플랫폼입니다.\n",
    "##### 기업 및 단체에서 데이터와 해결과제를 등록하면, 데이터 과학자들이 이를 해결하는 모델을 개발하고 경쟁하는 곳입니다. \n",
    "##### 이번 Lab에서는 Kaggle에서 입문자용 tutorial로 사용되는 titanic competition을 Glue와 Spark ML을 사용해서 데이터 분석, ETL, ML을 사용한 Prediction까지 실습해보도록 하겠습니다.\n",
    "\n",
    "![titanic_sinking](images/titanic_sinking.jpg)"
   ]
  },
  {
   "cell_type": "markdown",
   "metadata": {},
   "source": [
    "#### 필요한 라이브러리 Import"
   ]
  },
  {
   "cell_type": "code",
   "execution_count": 49,
   "metadata": {},
   "outputs": [
    {
     "data": {
      "application/vnd.jupyter.widget-view+json": {
       "model_id": "e0db7c74a5234cc3b72cf049dec3d9c1",
       "version_major": 2,
       "version_minor": 0
      },
      "text/plain": [
       "FloatProgress(value=0.0, bar_style='info', description='Progress:', layout=Layout(height='25px', width='50%'),…"
      ]
     },
     "metadata": {},
     "output_type": "display_data"
    }
   ],
   "source": [
    "from pyspark.ml import Pipeline\n",
    "from pyspark.sql.functions import mean, col, split, col, regexp_extract, when, lit\n",
    "from pyspark.ml.feature import StringIndexer\n",
    "from pyspark.ml.feature import VectorAssembler\n",
    "from pyspark.ml.evaluation import MulticlassClassificationEvaluator\n",
    "from pyspark.ml.feature import QuantileDiscretizer\n",
    "from sagemaker_pyspark import IAMRole\n",
    "from sagemaker_pyspark.algorithms import XGBoostSageMakerEstimator\n",
    "from sagemaker_pyspark.transformation import serializers"
   ]
  },
  {
   "cell_type": "markdown",
   "metadata": {},
   "source": [
    "### 1. Glue 카탈로그에서 필요한 데이터 준비"
   ]
  },
  {
   "cell_type": "code",
   "execution_count": 50,
   "metadata": {},
   "outputs": [
    {
     "data": {
      "application/vnd.jupyter.widget-view+json": {
       "model_id": "61ba92c508e0460c8a9bee7b7151f373",
       "version_major": 2,
       "version_minor": 0
      },
      "text/plain": [
       "FloatProgress(value=0.0, bar_style='info', description='Progress:', layout=Layout(height='25px', width='50%'),…"
      ]
     },
     "metadata": {},
     "output_type": "display_data"
    },
    {
     "name": "stdout",
     "output_type": "stream",
     "text": [
      "+-----------+------+--------------------+------+----+-----+-----+----------------+-------+-----+--------+\n",
      "|passengerid|pclass|                name|   sex| age|sibsp|parch|          ticket|   fare|cabin|embarked|\n",
      "+-----------+------+--------------------+------+----+-----+-----+----------------+-------+-----+--------+\n",
      "|          1|     3|     Mr. Owen Harris|  male|22.0|    1|    0|       A/5 21171|   7.25|     |       S|\n",
      "|          2|     1|Mrs. John Bradley...|female|38.0|    1|    0|        PC 17599|71.2833|  C85|       C|\n",
      "|          3|     3|         Miss. Laina|female|26.0|    0|    0|STON/O2. 3101282|  7.925|     |       S|\n",
      "|          4|     1|Mrs. Jacques Heat...|female|35.0|    1|    0|          113803|   53.1| C123|       S|\n",
      "|          5|     3|   Mr. William Henry|  male|35.0|    0|    0|          373450|   8.05|     |       S|\n",
      "|          6|     3|           Mr. James|  male|null|    0|    0|          330877| 8.4583|     |       Q|\n",
      "|          7|     1|       Mr. Timothy J|  male|54.0|    0|    0|           17463|51.8625|  E46|       S|\n",
      "|          8|     3|Master. Gosta Leo...|  male| 2.0|    3|    1|          349909| 21.075|     |       S|\n",
      "|          9|     3|Mrs. Oscar W (Eli...|female|27.0|    0|    2|          347742|11.1333|     |       S|\n",
      "|         10|     2|Mrs. Nicholas (Ad...|female|14.0|    1|    0|          237736|30.0708|     |       C|\n",
      "|         11|     3|Miss. Marguerite Rut|female| 4.0|    1|    1|         PP 9549|   16.7|   G6|       S|\n",
      "|         12|     1|     Miss. Elizabeth|female|58.0|    0|    0|          113783|  26.55| C103|       S|\n",
      "|         13|     3|   Mr. William Henry|  male|20.0|    0|    0|       A/5. 2151|   8.05|     |       S|\n",
      "|         14|     3|    Mr. Anders Johan|  male|39.0|    1|    5|          347082| 31.275|     |       S|\n",
      "|         15|     3|Miss. Hulda Amand...|female|14.0|    0|    0|          350406| 7.8542|     |       S|\n",
      "|         16|     2|Mrs. (Mary D King...|female|55.0|    0|    0|          248706|   16.0|     |       S|\n",
      "|         17|     3|      Master. Eugene|  male| 2.0|    4|    1|          382652| 29.125|     |       Q|\n",
      "|         18|     2|  Mr. Charles Eugene|  male|null|    0|    0|          244373|   13.0|     |       S|\n",
      "|         19|     3|Vander Mrs. Juliu...|female|31.0|    1|    0|          345763|   18.0|     |       S|\n",
      "|         20|     3|         Mrs. Fatima|female|null|    0|    0|            2649|  7.225|     |       C|\n",
      "+-----------+------+--------------------+------+----+-----+-----+----------------+-------+-----+--------+\n",
      "only showing top 20 rows"
     ]
    }
   ],
   "source": [
    "from awsglue.context import GlueContext\n",
    " \n",
    "glueContext = GlueContext(sc)\n",
    "features_df = glueContext.create_dynamic_frame.from_catalog(database='demo',\n",
    "                                                           table_name='demo_features',                           \n",
    "                                                           transformation_ctx='features_df').toDF()\n",
    "features_df.show()"
   ]
  },
  {
   "cell_type": "code",
   "execution_count": 51,
   "metadata": {},
   "outputs": [
    {
     "data": {
      "application/vnd.jupyter.widget-view+json": {
       "model_id": "451bb8e116e64891a62d630254ff133a",
       "version_major": 2,
       "version_minor": 0
      },
      "text/plain": [
       "FloatProgress(value=0.0, bar_style='info', description='Progress:', layout=Layout(height='25px', width='50%'),…"
      ]
     },
     "metadata": {},
     "output_type": "display_data"
    },
    {
     "name": "stdout",
     "output_type": "stream",
     "text": [
      "+-----------+-----+\n",
      "|passengerid|label|\n",
      "+-----------+-----+\n",
      "|         20|    1|\n",
      "|         40|    1|\n",
      "|         60|    0|\n",
      "|         80|    1|\n",
      "|        100|    0|\n",
      "|        120|    0|\n",
      "|        140|    0|\n",
      "|        160|    0|\n",
      "|        180|    0|\n",
      "|        200|    0|\n",
      "|        220|    0|\n",
      "|        240|    0|\n",
      "|        260|    1|\n",
      "|        280|    1|\n",
      "|        300|    1|\n",
      "|        320|    1|\n",
      "|        340|    0|\n",
      "|        360|    1|\n",
      "|        380|    0|\n",
      "|        400|    1|\n",
      "+-----------+-----+\n",
      "only showing top 20 rows"
     ]
    }
   ],
   "source": [
    "label_df = glueContext.create_dynamic_frame.from_catalog(database='demo',\n",
    "                                                           table_name='demo_label',                           \n",
    "                                                           transformation_ctx='label_df').toDF()\n",
    "label_df.show()"
   ]
  },
  {
   "cell_type": "code",
   "execution_count": 52,
   "metadata": {},
   "outputs": [
    {
     "data": {
      "application/vnd.jupyter.widget-view+json": {
       "model_id": "9d17dc59e5d14e1482fba768c3aba9a4",
       "version_major": 2,
       "version_minor": 0
      },
      "text/plain": [
       "FloatProgress(value=0.0, bar_style='info', description='Progress:', layout=Layout(height='25px', width='50%'),…"
      ]
     },
     "metadata": {},
     "output_type": "display_data"
    },
    {
     "name": "stdout",
     "output_type": "stream",
     "text": [
      "+-----------+-----+------+--------------------+------+----+-----+-----+----------------+--------+-----+--------+\n",
      "|passengerid|label|pclass|                name|   sex| age|sibsp|parch|          ticket|    fare|cabin|embarked|\n",
      "+-----------+-----+------+--------------------+------+----+-----+-----+----------------+--------+-----+--------+\n",
      "|         26|    1|     3|Mrs. Carl Oscar (...|female|38.0|    1|    5|          347077| 31.3875|     |       S|\n",
      "|         29|    1|     3|O'Miss. Ellen \"Ne...|female|null|    0|    0|          330959|  7.8792|     |       Q|\n",
      "|        474|    1|     2|Mrs. Amin S (Mari...|female|23.0|    0|    0| SC/AH Basle 541| 13.7917|    D|       C|\n",
      "|         65|    0|     1|        Mr. Albert A|  male|null|    0|    0|        PC 17605| 27.7208|     |       C|\n",
      "|        191|    1|     2|         Mrs. (Rosa)|female|32.0|    0|    0|          234604|    13.0|     |       S|\n",
      "|        418|    1|     2|Miss. Lyyli Karol...|female|18.0|    0|    2|          250652|    13.0|     |       S|\n",
      "|        541|    1|     1|     Miss. Harriet R|female|36.0|    0|    2|       WE/P 5735|    71.0|  B22|       S|\n",
      "|        558|    0|     1|          Mr. Victor|  male|null|    0|    0|        PC 17757| 227.525|     |       C|\n",
      "|        222|    0|     2|         Mr. James H|  male|27.0|    0|    0|          220367|    13.0|     |       S|\n",
      "|        270|    1|     1|        Miss. Amelia|female|35.0|    0|    0|        PC 17760|135.6333|  C99|       S|\n",
      "|        293|    0|     2|    Mr. Rene Jacques|  male|36.0|    0|    0|   SC/Paris 2163|  12.875|    D|       C|\n",
      "|        730|    0|     3|   Miss. Pieta Sofia|female|25.0|    1|    0|STON/O2. 3101271|   7.925|     |       S|\n",
      "|        243|    0|     2|Mr. Reginald Charles|  male|29.0|    0|    0|     W./C. 14263|    10.5|     |       S|\n",
      "|        278|    0|     2| Mr. Francis \"Frank\"|  male|null|    0|    0|          239853|     0.0|     |       S|\n",
      "|        367|    1|     1|Mrs. Frank Manley...|female|60.0|    1|    0|          110813|   75.25|  D37|       C|\n",
      "|        442|    0|     3|            Mr. Leon|  male|20.0|    0|    0|          345769|     9.5|     |       S|\n",
      "|        705|    0|     3|     Mr. Henrik Juul|  male|26.0|    1|    0|          350025|  7.8542|     |       S|\n",
      "|        720|    0|     3| Mr. Malkolm Joackim|  male|33.0|    0|    0|          347062|   7.775|     |       S|\n",
      "|         19|    0|     3|Vander Mrs. Juliu...|female|31.0|    1|    0|          345763|    18.0|     |       S|\n",
      "|         54|    1|     2|Mrs. Lizzie (Eliz...|female|29.0|    1|    0|            2926|    26.0|     |       S|\n",
      "+-----------+-----+------+--------------------+------+----+-----+-----+----------------+--------+-----+--------+\n",
      "only showing top 20 rows"
     ]
    }
   ],
   "source": [
    "titanic_df = label_df.join(features_df, 'passengerid')\n",
    "titanic_df.show()"
   ]
  },
  {
   "cell_type": "markdown",
   "metadata": {},
   "source": [
    "##### passengerid: 승객 id\n",
    "##### label: 생존여부\n",
    "##### pclass: 티켓등급 (1=1st, 2=2nd, 3=3rd)\n",
    "##### name: 이름\n",
    "##### sex: 성별 (0=male, 1=female)\n",
    "##### age: 나이\n",
    "##### sibsp: 함께 탑승한 형제자매, 배우자의 수\n",
    "##### parch: 함께 탑승한 부모, 자식의 수\n",
    "##### ticket: 티켓번호\n",
    "##### fare: 운임\n",
    "##### cabin: 객실 번호\n",
    "##### embarked: 탑승항구 (C=Cherbourg, Q=Queenstown, S=Southampton)"
   ]
  },
  {
   "cell_type": "markdown",
   "metadata": {},
   "source": [
    "#### 1.1. 전체 데이터 수 확인"
   ]
  },
  {
   "cell_type": "code",
   "execution_count": 53,
   "metadata": {},
   "outputs": [
    {
     "data": {
      "application/vnd.jupyter.widget-view+json": {
       "model_id": "3bb1b5ec0ea14facb533c3e6303fe9c3",
       "version_major": 2,
       "version_minor": 0
      },
      "text/plain": [
       "FloatProgress(value=0.0, bar_style='info', description='Progress:', layout=Layout(height='25px', width='50%'),…"
      ]
     },
     "metadata": {},
     "output_type": "display_data"
    },
    {
     "name": "stdout",
     "output_type": "stream",
     "text": [
      "891"
     ]
    }
   ],
   "source": [
    "titanic_df.count()"
   ]
  },
  {
   "cell_type": "markdown",
   "metadata": {},
   "source": [
    "#### 1.2. 데이터 스키마 확인"
   ]
  },
  {
   "cell_type": "code",
   "execution_count": 54,
   "metadata": {},
   "outputs": [
    {
     "data": {
      "application/vnd.jupyter.widget-view+json": {
       "model_id": "3639ce3fe067408197eda0c90ff72c24",
       "version_major": 2,
       "version_minor": 0
      },
      "text/plain": [
       "FloatProgress(value=0.0, bar_style='info', description='Progress:', layout=Layout(height='25px', width='50%'),…"
      ]
     },
     "metadata": {},
     "output_type": "display_data"
    },
    {
     "name": "stdout",
     "output_type": "stream",
     "text": [
      "root\n",
      " |-- passengerid: integer (nullable = true)\n",
      " |-- label: integer (nullable = true)\n",
      " |-- pclass: long (nullable = true)\n",
      " |-- name: string (nullable = true)\n",
      " |-- sex: string (nullable = true)\n",
      " |-- age: double (nullable = true)\n",
      " |-- sibsp: long (nullable = true)\n",
      " |-- parch: long (nullable = true)\n",
      " |-- ticket: string (nullable = true)\n",
      " |-- fare: double (nullable = true)\n",
      " |-- cabin: string (nullable = true)\n",
      " |-- embarked: string (nullable = true)"
     ]
    }
   ],
   "source": [
    "titanic_df.printSchema()"
   ]
  },
  {
   "cell_type": "markdown",
   "metadata": {},
   "source": [
    "#### 1.3. 사용할 데이터에 모든 컬럼에 대해 요약 통계를 확인합니다."
   ]
  },
  {
   "cell_type": "code",
   "execution_count": 55,
   "metadata": {},
   "outputs": [
    {
     "data": {
      "application/vnd.jupyter.widget-view+json": {
       "model_id": "54d84a55d9f14b1f982678f66c5c18d7",
       "version_major": 2,
       "version_minor": 0
      },
      "text/plain": [
       "FloatProgress(value=0.0, bar_style='info', description='Progress:', layout=Layout(height='25px', width='50%'),…"
      ]
     },
     "metadata": {},
     "output_type": "display_data"
    },
    {
     "name": "stdout",
     "output_type": "stream",
     "text": [
      "+-------+------------------+-------------------+------------------+--------------------+------+------------------+------------------+-------------------+------------------+-----------------+-----+--------+\n",
      "|summary|       passengerid|              label|            pclass|                name|   sex|               age|             sibsp|              parch|            ticket|             fare|cabin|embarked|\n",
      "+-------+------------------+-------------------+------------------+--------------------+------+------------------+------------------+-------------------+------------------+-----------------+-----+--------+\n",
      "|  count|               891|                891|               891|                 891|   891|               714|               891|                891|               891|              891|  891|     891|\n",
      "|   mean|             446.0| 0.3838383838383838| 2.308641975308642|                null|  null|29.699117647058827|0.5230078563411896|0.38159371492704824|260318.54916792738|32.20420796857465| null|    null|\n",
      "| stddev|257.35384201523004|0.48659245426485764|0.8360712409770488|                null|  null|14.526497332334042|1.1027434322934313| 0.8060572211299484| 471609.2686883497|49.69342859718088| null|    null|\n",
      "|    min|                 1|                  0|                 1|Andersen-Miss. Ca...|female|              0.42|                 0|                  0|            110152|              0.0|     |        |\n",
      "|    max|               891|                  1|                 3|    van Mr. Philemon|  male|              80.0|                 8|                  6|         WE/P 5735|         512.3292|    T|       S|\n",
      "+-------+------------------+-------------------+------------------+--------------------+------+------------------+------------------+-------------------+------------------+-----------------+-----+--------+"
     ]
    }
   ],
   "source": [
    "titanic_df.describe().show()"
   ]
  },
  {
   "cell_type": "markdown",
   "metadata": {},
   "source": [
    "##### 전체 데이터가 891개로 다른 모든 컬럼은 891개의 데이터를 모두 가지고 있지만 age만 714개로 누락된 데이터가 존재함을 확인합니다.\n",
    "##### 빈 스트링은 이 요약 통계에서 구분이 불가능함으로 이후에 별도의 확인 과정을 통해 따로 체크하도록 합니다."
   ]
  },
  {
   "cell_type": "markdown",
   "metadata": {},
   "source": [
    "### 2. Exploratory data analysis"
   ]
  },
  {
   "cell_type": "markdown",
   "metadata": {},
   "source": [
    "#### 2.1. 탑승객 생존율 확인"
   ]
  },
  {
   "cell_type": "code",
   "execution_count": 56,
   "metadata": {},
   "outputs": [
    {
     "data": {
      "application/vnd.jupyter.widget-view+json": {
       "model_id": "1b74eef62eec4da8892f4908babfb37b",
       "version_major": 2,
       "version_minor": 0
      },
      "text/plain": [
       "FloatProgress(value=0.0, bar_style='info', description='Progress:', layout=Layout(height='25px', width='50%'),…"
      ]
     },
     "metadata": {},
     "output_type": "display_data"
    },
    {
     "name": "stdout",
     "output_type": "stream",
     "text": [
      "+-----+-----+\n",
      "|label|count|\n",
      "+-----+-----+\n",
      "|    1|  342|\n",
      "|    0|  549|\n",
      "+-----+-----+"
     ]
    }
   ],
   "source": [
    "titanic_df.groupBy('label').count().show()"
   ]
  },
  {
   "cell_type": "markdown",
   "metadata": {},
   "source": [
    "##### 891명의 승객 중 342명만 생존했음을 알 수 있습니다.\n",
    "##### 생존율은 sex, age, pclass와 같은 승객 특징들과 관련이 있으므로 해당 feature에 따른 생존율을 살펴봅니다."
   ]
  },
  {
   "cell_type": "markdown",
   "metadata": {},
   "source": [
    "#### 2.2. 성별에 따른 생존율 확인"
   ]
  },
  {
   "cell_type": "code",
   "execution_count": 57,
   "metadata": {},
   "outputs": [
    {
     "data": {
      "application/vnd.jupyter.widget-view+json": {
       "model_id": "1ea24019961e4dfab3f9e0029002dc22",
       "version_major": 2,
       "version_minor": 0
      },
      "text/plain": [
       "FloatProgress(value=0.0, bar_style='info', description='Progress:', layout=Layout(height='25px', width='50%'),…"
      ]
     },
     "metadata": {},
     "output_type": "display_data"
    },
    {
     "name": "stdout",
     "output_type": "stream",
     "text": [
      "+------+-----+-----+\n",
      "|   sex|label|count|\n",
      "+------+-----+-----+\n",
      "|female|    0|   81|\n",
      "|female|    1|  233|\n",
      "|  male|    0|  468|\n",
      "|  male|    1|  109|\n",
      "+------+-----+-----+"
     ]
    }
   ],
   "source": [
    "titanic_df.groupBy('sex', 'label').count().orderBy('sex', 'label', ascending=[1, 1]).show()"
   ]
  },
  {
   "cell_type": "markdown",
   "metadata": {},
   "source": [
    "##### 남성보다 여성의 생존율이 높음을 알 수 있습니다."
   ]
  },
  {
   "cell_type": "markdown",
   "metadata": {},
   "source": [
    "#### 2.3. 티켓등급에 따른 생존율 확인"
   ]
  },
  {
   "cell_type": "code",
   "execution_count": 58,
   "metadata": {},
   "outputs": [
    {
     "data": {
      "application/vnd.jupyter.widget-view+json": {
       "model_id": "d175a627789645eca0475c5ef4de99d9",
       "version_major": 2,
       "version_minor": 0
      },
      "text/plain": [
       "FloatProgress(value=0.0, bar_style='info', description='Progress:', layout=Layout(height='25px', width='50%'),…"
      ]
     },
     "metadata": {},
     "output_type": "display_data"
    },
    {
     "name": "stdout",
     "output_type": "stream",
     "text": [
      "+------+-----+-----+\n",
      "|pclass|label|count|\n",
      "+------+-----+-----+\n",
      "|     1|    0|   80|\n",
      "|     1|    1|  136|\n",
      "|     2|    0|   97|\n",
      "|     2|    1|   87|\n",
      "|     3|    0|  372|\n",
      "|     3|    1|  119|\n",
      "+------+-----+-----+"
     ]
    }
   ],
   "source": [
    "titanic_df.groupBy('pclass', 'label').count().orderBy('pclass', 'label', ascending=[1, 1]).show()"
   ]
  },
  {
   "cell_type": "markdown",
   "metadata": {},
   "source": [
    "##### 1등석의 생존율은 높고, 3등석의 생존율은 낮은 것을 알 수 있습니다."
   ]
  },
  {
   "cell_type": "markdown",
   "metadata": {},
   "source": [
    "#### 2.4. 함께 탑승한 형제자매나 배우자에 따른 생존율 확인"
   ]
  },
  {
   "cell_type": "code",
   "execution_count": 59,
   "metadata": {},
   "outputs": [
    {
     "data": {
      "application/vnd.jupyter.widget-view+json": {
       "model_id": "de4c275400614307a01bbd79bd985cac",
       "version_major": 2,
       "version_minor": 0
      },
      "text/plain": [
       "FloatProgress(value=0.0, bar_style='info', description='Progress:', layout=Layout(height='25px', width='50%'),…"
      ]
     },
     "metadata": {},
     "output_type": "display_data"
    },
    {
     "name": "stdout",
     "output_type": "stream",
     "text": [
      "+-----+-----+-----+\n",
      "|sibsp|label|count|\n",
      "+-----+-----+-----+\n",
      "|    0|    0|  398|\n",
      "|    0|    1|  210|\n",
      "|    1|    0|   97|\n",
      "|    1|    1|  112|\n",
      "|    2|    0|   15|\n",
      "|    2|    1|   13|\n",
      "|    3|    0|   12|\n",
      "|    3|    1|    4|\n",
      "|    4|    0|   15|\n",
      "|    4|    1|    3|\n",
      "|    5|    0|    5|\n",
      "|    8|    0|    7|\n",
      "+-----+-----+-----+"
     ]
    }
   ],
   "source": [
    "titanic_df.groupBy('sibsp', 'label').count().orderBy('sibsp', 'label', ascending=[1, 1]).show()"
   ]
  },
  {
   "cell_type": "markdown",
   "metadata": {},
   "source": [
    "##### 동승한 형제자매나 배우자가 없는 경우 생존율이 낮은 것을 알 수 있습니다."
   ]
  },
  {
   "cell_type": "markdown",
   "metadata": {},
   "source": [
    "#### 2.5. 함께 탑승한 부모님이나 자녀에 따른 생존율 확인"
   ]
  },
  {
   "cell_type": "code",
   "execution_count": 60,
   "metadata": {},
   "outputs": [
    {
     "data": {
      "application/vnd.jupyter.widget-view+json": {
       "model_id": "3c469b22106c4dc5a7d67a67d52e7217",
       "version_major": 2,
       "version_minor": 0
      },
      "text/plain": [
       "FloatProgress(value=0.0, bar_style='info', description='Progress:', layout=Layout(height='25px', width='50%'),…"
      ]
     },
     "metadata": {},
     "output_type": "display_data"
    },
    {
     "name": "stdout",
     "output_type": "stream",
     "text": [
      "+-----+-----+-----+\n",
      "|parch|label|count|\n",
      "+-----+-----+-----+\n",
      "|    0|    0|  445|\n",
      "|    0|    1|  233|\n",
      "|    1|    0|   53|\n",
      "|    1|    1|   65|\n",
      "|    2|    0|   40|\n",
      "|    2|    1|   40|\n",
      "|    3|    0|    2|\n",
      "|    3|    1|    3|\n",
      "|    4|    0|    4|\n",
      "|    5|    0|    4|\n",
      "|    5|    1|    1|\n",
      "|    6|    0|    1|\n",
      "+-----+-----+-----+"
     ]
    }
   ],
   "source": [
    "titanic_df.groupBy('parch', 'label').count().orderBy('parch', 'label', ascending=[1, 1]).show()"
   ]
  },
  {
   "cell_type": "markdown",
   "metadata": {},
   "source": [
    "##### 동승한 부모나 자녀가 없는 경우 생존율이 낮은 것을 알 수 있습니다."
   ]
  },
  {
   "cell_type": "markdown",
   "metadata": {},
   "source": [
    "#### 2.6 탑승항구에 따른 생존율 확인"
   ]
  },
  {
   "cell_type": "code",
   "execution_count": 61,
   "metadata": {},
   "outputs": [
    {
     "data": {
      "application/vnd.jupyter.widget-view+json": {
       "model_id": "742ceb93f759479191f42b485a9c964f",
       "version_major": 2,
       "version_minor": 0
      },
      "text/plain": [
       "FloatProgress(value=0.0, bar_style='info', description='Progress:', layout=Layout(height='25px', width='50%'),…"
      ]
     },
     "metadata": {},
     "output_type": "display_data"
    },
    {
     "name": "stdout",
     "output_type": "stream",
     "text": [
      "+--------+-----+-----+\n",
      "|embarked|label|count|\n",
      "+--------+-----+-----+\n",
      "|        |    1|    2|\n",
      "|       C|    0|   75|\n",
      "|       C|    1|   93|\n",
      "|       Q|    0|   47|\n",
      "|       Q|    1|   30|\n",
      "|       S|    0|  427|\n",
      "|       S|    1|  217|\n",
      "+--------+-----+-----+"
     ]
    }
   ],
   "source": [
    "titanic_df.groupBy('embarked', 'label').count().orderBy('embarked', 'label', ascending=[1, 1]).show()"
   ]
  },
  {
   "cell_type": "markdown",
   "metadata": {},
   "source": [
    "##### 2개의 데이터는 탑승항구가 명시되어 있지 않는 것을 알 수 있습니다.\n",
    "##### 탑승항구 S(Southampton)의 생존율이 낮은 것을 알 수 있습니다.\n",
    "##### 따라서, 탑승항구 S(Southampton)의 생존율이 낮은 이유를 알기 위해 탑승항구와 탑승석의 관계를 살펴볼 필요가 있습니다."
   ]
  },
  {
   "cell_type": "code",
   "execution_count": 62,
   "metadata": {},
   "outputs": [
    {
     "data": {
      "application/vnd.jupyter.widget-view+json": {
       "model_id": "91c681cc0e3c4e13889616824a0d801d",
       "version_major": 2,
       "version_minor": 0
      },
      "text/plain": [
       "FloatProgress(value=0.0, bar_style='info', description='Progress:', layout=Layout(height='25px', width='50%'),…"
      ]
     },
     "metadata": {},
     "output_type": "display_data"
    },
    {
     "name": "stdout",
     "output_type": "stream",
     "text": [
      "+--------+------+-----+\n",
      "|embarked|pclass|count|\n",
      "+--------+------+-----+\n",
      "|        |     1|    2|\n",
      "|       C|     1|   85|\n",
      "|       C|     2|   17|\n",
      "|       C|     3|   66|\n",
      "|       Q|     1|    2|\n",
      "|       Q|     2|    3|\n",
      "|       Q|     3|   72|\n",
      "|       S|     1|  127|\n",
      "|       S|     2|  164|\n",
      "|       S|     3|  353|\n",
      "+--------+------+-----+"
     ]
    }
   ],
   "source": [
    "titanic_df.groupBy('embarked', 'pclass').count().orderBy('embarked', 'pclass', ascending=[1, 1]).show()"
   ]
  },
  {
   "cell_type": "markdown",
   "metadata": {},
   "source": [
    "##### 탑승항구 S(Southampton)의 생존율이 낮은 이유는 대다수 탑승객이 3등석이기 때문임을 알 수 있습니다."
   ]
  },
  {
   "cell_type": "markdown",
   "metadata": {},
   "source": [
    "### 3. Feature engineering"
   ]
  },
  {
   "cell_type": "markdown",
   "metadata": {},
   "source": [
    "#### 3.1. Null Column Check\n",
    "##### Null 값이나 empty string을 가진 Column이 존재하는 지 확인합니다."
   ]
  },
  {
   "cell_type": "markdown",
   "metadata": {},
   "source": [
    "##### 3.1.1. Null Value를 체크하기 위한 UDF(User Defined Function) 함수 선언"
   ]
  },
  {
   "cell_type": "code",
   "execution_count": 63,
   "metadata": {},
   "outputs": [
    {
     "data": {
      "application/vnd.jupyter.widget-view+json": {
       "model_id": "325b5b0e87fb44c8873a39d1c5ab0100",
       "version_major": 2,
       "version_minor": 0
      },
      "text/plain": [
       "FloatProgress(value=0.0, bar_style='info', description='Progress:', layout=Layout(height='25px', width='50%'),…"
      ]
     },
     "metadata": {},
     "output_type": "display_data"
    }
   ],
   "source": [
    "def count_null_or_empty_value(df):\n",
    "    null_columns_counts = []\n",
    "    \n",
    "    for column in df.columns:\n",
    "        null_rows = df.where((col(column).isNull()) | (col(column) == '')).count()\n",
    "    \n",
    "        if(null_rows > 0):\n",
    "              null_columns_counts.append((column, null_rows))\n",
    "    return(null_columns_counts)"
   ]
  },
  {
   "cell_type": "markdown",
   "metadata": {},
   "source": [
    "##### 3.1.2. count_null_or_empty_value UDF를 이용하여 Null Value feature 확인"
   ]
  },
  {
   "cell_type": "code",
   "execution_count": 64,
   "metadata": {},
   "outputs": [
    {
     "data": {
      "application/vnd.jupyter.widget-view+json": {
       "model_id": "6e1fcf2872764c788be86c8e2d6ed3c2",
       "version_major": 2,
       "version_minor": 0
      },
      "text/plain": [
       "FloatProgress(value=0.0, bar_style='info', description='Progress:', layout=Layout(height='25px', width='50%'),…"
      ]
     },
     "metadata": {},
     "output_type": "display_data"
    },
    {
     "name": "stdout",
     "output_type": "stream",
     "text": [
      "+----------------------+-----------------+\n",
      "|Column_With_Null_Value|Null_Values_Count|\n",
      "+----------------------+-----------------+\n",
      "|                   age|              177|\n",
      "|                 cabin|              687|\n",
      "|              embarked|                2|\n",
      "+----------------------+-----------------+"
     ]
    }
   ],
   "source": [
    "null_columns_count_list = count_null_or_empty_value(titanic_df)\n",
    "spark.createDataFrame(null_columns_count_list, ['Column_With_Null_Value', 'Null_Values_Count']).show()"
   ]
  },
  {
   "cell_type": "markdown",
   "metadata": {},
   "source": [
    "##### age feature가 177개의 null value를 가진 것이 확인되었습니다.\n",
    "##### cabin feature가 687개의 empty string을 가진 것이 확인되었습니다.\n",
    "##### embarked feature가 2개의 empty string을 가진 것이 확인되었습니다.\n",
    "##### 이 정보는 이후 진행되는 feature engineering에서 참고 자료로 사용합니다."
   ]
  },
  {
   "cell_type": "markdown",
   "metadata": {},
   "source": [
    "#### 3.2. Name"
   ]
  },
  {
   "cell_type": "code",
   "execution_count": 65,
   "metadata": {},
   "outputs": [
    {
     "data": {
      "application/vnd.jupyter.widget-view+json": {
       "model_id": "74d24687914d4d788fc7f62f8bc0b694",
       "version_major": 2,
       "version_minor": 0
      },
      "text/plain": [
       "FloatProgress(value=0.0, bar_style='info', description='Progress:', layout=Layout(height='25px', width='50%'),…"
      ]
     },
     "metadata": {},
     "output_type": "display_data"
    },
    {
     "name": "stdout",
     "output_type": "stream",
     "text": [
      "+--------------------+\n",
      "|                name|\n",
      "+--------------------+\n",
      "|Mrs. Carl Oscar (...|\n",
      "|O'Miss. Ellen \"Ne...|\n",
      "|Mrs. Amin S (Mari...|\n",
      "|        Mr. Albert A|\n",
      "|         Mrs. (Rosa)|\n",
      "|Miss. Lyyli Karol...|\n",
      "|     Miss. Harriet R|\n",
      "|          Mr. Victor|\n",
      "|         Mr. James H|\n",
      "|        Miss. Amelia|\n",
      "|    Mr. Rene Jacques|\n",
      "|   Miss. Pieta Sofia|\n",
      "|Mr. Reginald Charles|\n",
      "| Mr. Francis \"Frank\"|\n",
      "|Mrs. Frank Manley...|\n",
      "|            Mr. Leon|\n",
      "|     Mr. Henrik Juul|\n",
      "| Mr. Malkolm Joackim|\n",
      "|Vander Mrs. Juliu...|\n",
      "|Mrs. Lizzie (Eliz...|\n",
      "+--------------------+\n",
      "only showing top 20 rows"
     ]
    }
   ],
   "source": [
    "titanic_df.select(\"name\").show()"
   ]
  },
  {
   "cell_type": "markdown",
   "metadata": {},
   "source": [
    "##### 샘플 데이터에서 name field를 살펴보면 그대로 사용하기는 어렵고 정리가 필요하다는 것을 알 수 있습니다.\n",
    "##### name field에 나이와 성별 기혼 등을 의미하는 호칭(Mr, Mrs, Miss)이 있는 것을 알 수 있습니다. "
   ]
  },
  {
   "cell_type": "markdown",
   "metadata": {},
   "source": [
    "##### 3.2.1. name column에서 유의미한 호칭만 추출하여 별도의 initial column으로 만들고 기존 데이터에 추가"
   ]
  },
  {
   "cell_type": "code",
   "execution_count": 66,
   "metadata": {},
   "outputs": [
    {
     "data": {
      "application/vnd.jupyter.widget-view+json": {
       "model_id": "9ce0c0d0dfc64e56a192a4f0abcfd416",
       "version_major": 2,
       "version_minor": 0
      },
      "text/plain": [
       "FloatProgress(value=0.0, bar_style='info', description='Progress:', layout=Layout(height='25px', width='50%'),…"
      ]
     },
     "metadata": {},
     "output_type": "display_data"
    },
    {
     "name": "stdout",
     "output_type": "stream",
     "text": [
      "+-----------+-----+------+--------------------+------+----+-----+-----+----------------+--------+-----+--------+-------+\n",
      "|passengerid|label|pclass|                name|   sex| age|sibsp|parch|          ticket|    fare|cabin|embarked|initial|\n",
      "+-----------+-----+------+--------------------+------+----+-----+-----+----------------+--------+-----+--------+-------+\n",
      "|         26|    1|     3|Mrs. Carl Oscar (...|female|38.0|    1|    5|          347077| 31.3875|     |       S|    Mrs|\n",
      "|         29|    1|     3|O'Miss. Ellen \"Ne...|female|null|    0|    0|          330959|  7.8792|     |       Q|   Miss|\n",
      "|        474|    1|     2|Mrs. Amin S (Mari...|female|23.0|    0|    0| SC/AH Basle 541| 13.7917|    D|       C|    Mrs|\n",
      "|         65|    0|     1|        Mr. Albert A|  male|null|    0|    0|        PC 17605| 27.7208|     |       C|     Mr|\n",
      "|        191|    1|     2|         Mrs. (Rosa)|female|32.0|    0|    0|          234604|    13.0|     |       S|    Mrs|\n",
      "|        418|    1|     2|Miss. Lyyli Karol...|female|18.0|    0|    2|          250652|    13.0|     |       S|   Miss|\n",
      "|        541|    1|     1|     Miss. Harriet R|female|36.0|    0|    2|       WE/P 5735|    71.0|  B22|       S|   Miss|\n",
      "|        558|    0|     1|          Mr. Victor|  male|null|    0|    0|        PC 17757| 227.525|     |       C|     Mr|\n",
      "|        222|    0|     2|         Mr. James H|  male|27.0|    0|    0|          220367|    13.0|     |       S|     Mr|\n",
      "|        270|    1|     1|        Miss. Amelia|female|35.0|    0|    0|        PC 17760|135.6333|  C99|       S|   Miss|\n",
      "|        293|    0|     2|    Mr. Rene Jacques|  male|36.0|    0|    0|   SC/Paris 2163|  12.875|    D|       C|     Mr|\n",
      "|        730|    0|     3|   Miss. Pieta Sofia|female|25.0|    1|    0|STON/O2. 3101271|   7.925|     |       S|   Miss|\n",
      "|        243|    0|     2|Mr. Reginald Charles|  male|29.0|    0|    0|     W./C. 14263|    10.5|     |       S|     Mr|\n",
      "|        278|    0|     2| Mr. Francis \"Frank\"|  male|null|    0|    0|          239853|     0.0|     |       S|     Mr|\n",
      "|        367|    1|     1|Mrs. Frank Manley...|female|60.0|    1|    0|          110813|   75.25|  D37|       C|    Mrs|\n",
      "|        442|    0|     3|            Mr. Leon|  male|20.0|    0|    0|          345769|     9.5|     |       S|     Mr|\n",
      "|        705|    0|     3|     Mr. Henrik Juul|  male|26.0|    1|    0|          350025|  7.8542|     |       S|     Mr|\n",
      "|        720|    0|     3| Mr. Malkolm Joackim|  male|33.0|    0|    0|          347062|   7.775|     |       S|     Mr|\n",
      "|         19|    0|     3|Vander Mrs. Juliu...|female|31.0|    1|    0|          345763|    18.0|     |       S|    Mrs|\n",
      "|         54|    1|     2|Mrs. Lizzie (Eliz...|female|29.0|    1|    0|            2926|    26.0|     |       S|    Mrs|\n",
      "+-----------+-----+------+--------------------+------+----+-----+-----+----------------+--------+-----+--------+-------+\n",
      "only showing top 20 rows"
     ]
    }
   ],
   "source": [
    "titanic_df = titanic_df.withColumn('initial', regexp_extract(col('name'), \"(\\w+)\\.\", 1))\n",
    "titanic_df.show()"
   ]
  },
  {
   "cell_type": "markdown",
   "metadata": {},
   "source": [
    "##### 3.2.2 생성된 initial feature의 데이터 분포 확인 \n",
    "##### MR: 성인 남성\n",
    "##### Miss: 여자 아동\n",
    "##### Mrs: 기혼 여성\n",
    "##### Master: 남자 아동\n",
    "##### MS: 성인 여성"
   ]
  },
  {
   "cell_type": "code",
   "execution_count": 67,
   "metadata": {},
   "outputs": [
    {
     "data": {
      "application/vnd.jupyter.widget-view+json": {
       "model_id": "467a3c3f88dc4af9867110d895d58977",
       "version_major": 2,
       "version_minor": 0
      },
      "text/plain": [
       "FloatProgress(value=0.0, bar_style='info', description='Progress:', layout=Layout(height='25px', width='50%'),…"
      ]
     },
     "metadata": {},
     "output_type": "display_data"
    },
    {
     "name": "stdout",
     "output_type": "stream",
     "text": [
      "+--------+-----+\n",
      "| initial|count|\n",
      "+--------+-----+\n",
      "|      Mr|  517|\n",
      "|    Miss|  182|\n",
      "|     Mrs|  125|\n",
      "|  Master|   40|\n",
      "|      Dr|    7|\n",
      "|     Rev|    6|\n",
      "|     Col|    2|\n",
      "|   Major|    2|\n",
      "|    Mlle|    2|\n",
      "|    Lady|    1|\n",
      "|     Don|    1|\n",
      "|Countess|    1|\n",
      "|Jonkheer|    1|\n",
      "|     Mme|    1|\n",
      "|    Capt|    1|\n",
      "|      Ms|    1|\n",
      "|     Sir|    1|\n",
      "+--------+-----+"
     ]
    }
   ],
   "source": [
    "titanic_df.groupBy('initial').count().orderBy('count', ascending=[0]).show()"
   ]
  },
  {
   "cell_type": "markdown",
   "metadata": {},
   "source": [
    "##### Mlle나 Mme 같이 Miss를 다르게 표현한 호칭도 확인할 수 있고, Master까지만 유의미하고 나머지는 하나로 그룹화하여 Other로 통합하는 것이 이후 데이터 분석에 효율적일 것으로 생각됩니다.  "
   ]
  },
  {
   "cell_type": "code",
   "execution_count": 68,
   "metadata": {},
   "outputs": [
    {
     "data": {
      "application/vnd.jupyter.widget-view+json": {
       "model_id": "a4d33c22c1ce4b3a9f3908f4ceb34d69",
       "version_major": 2,
       "version_minor": 0
      },
      "text/plain": [
       "FloatProgress(value=0.0, bar_style='info', description='Progress:', layout=Layout(height='25px', width='50%'),…"
      ]
     },
     "metadata": {},
     "output_type": "display_data"
    },
    {
     "name": "stdout",
     "output_type": "stream",
     "text": [
      "+-------+-----+\n",
      "|initial|count|\n",
      "+-------+-----+\n",
      "|     Mr|  529|\n",
      "|   Miss|  186|\n",
      "|    Mrs|  127|\n",
      "| Master|   40|\n",
      "|  Other|    9|\n",
      "+-------+-----+"
     ]
    }
   ],
   "source": [
    "titanic_df = titanic_df.replace(['Mlle','Mme', 'Ms', 'Dr','Major','Lady','Countess','Jonkheer','Col','Rev','Capt','Sir','Don'],\n",
    "               ['Miss','Miss','Miss','Mr','Mr',  'Mrs',  'Mrs',  'Other',  'Other','Other','Mr','Mr','Mr'])\n",
    "titanic_df.groupBy(\"initial\").count().orderBy(\"count\", ascending=[0]).show()"
   ]
  },
  {
   "cell_type": "markdown",
   "metadata": {},
   "source": [
    "##### 최종 정리된 Initial feature의 모습을 확인할 수 있습니다."
   ]
  },
  {
   "cell_type": "markdown",
   "metadata": {},
   "source": [
    "#### 3.3. Age"
   ]
  },
  {
   "cell_type": "code",
   "execution_count": 69,
   "metadata": {},
   "outputs": [
    {
     "data": {
      "application/vnd.jupyter.widget-view+json": {
       "model_id": "0adadc9044244158bbf912cb7a6da75c",
       "version_major": 2,
       "version_minor": 0
      },
      "text/plain": [
       "FloatProgress(value=0.0, bar_style='info', description='Progress:', layout=Layout(height='25px', width='50%'),…"
      ]
     },
     "metadata": {},
     "output_type": "display_data"
    },
    {
     "name": "stdout",
     "output_type": "stream",
     "text": [
      "177"
     ]
    }
   ],
   "source": [
    "titanic_df.where((col('age').isNull()) | (col('age') == '')).count()"
   ]
  },
  {
   "cell_type": "markdown",
   "metadata": {},
   "source": [
    "##### age에 177개의 빈 값은 적절하게 채워줘야 나중에 모델링할 때 성능을 높일 수 있습니다."
   ]
  },
  {
   "cell_type": "markdown",
   "metadata": {},
   "source": [
    "##### 3.3.1. age의 평균값을 확인"
   ]
  },
  {
   "cell_type": "code",
   "execution_count": 70,
   "metadata": {},
   "outputs": [
    {
     "data": {
      "application/vnd.jupyter.widget-view+json": {
       "model_id": "f4315d141ebf48589b24f81d4ee7fbfc",
       "version_major": 2,
       "version_minor": 0
      },
      "text/plain": [
       "FloatProgress(value=0.0, bar_style='info', description='Progress:', layout=Layout(height='25px', width='50%'),…"
      ]
     },
     "metadata": {},
     "output_type": "display_data"
    },
    {
     "name": "stdout",
     "output_type": "stream",
     "text": [
      "+------------------+\n",
      "|          mean_age|\n",
      "+------------------+\n",
      "|29.699117647058827|\n",
      "+------------------+"
     ]
    }
   ],
   "source": [
    "# mean('age')의 output column 이름이 mean(age)여서 mean_age로 alias 함 \n",
    "titanic_df.select(mean('age').alias('mean_age')).show()"
   ]
  },
  {
   "cell_type": "markdown",
   "metadata": {},
   "source": [
    "##### 3.3.2. 전체 age의 평균은 29.70이나 우리는 initial feature를 알고 각 initial age 평균을 살펴봅니다."
   ]
  },
  {
   "cell_type": "code",
   "execution_count": 71,
   "metadata": {},
   "outputs": [
    {
     "data": {
      "application/vnd.jupyter.widget-view+json": {
       "model_id": "9f3bb8efc1ed483b938049bd12d3a833",
       "version_major": 2,
       "version_minor": 0
      },
      "text/plain": [
       "FloatProgress(value=0.0, bar_style='info', description='Progress:', layout=Layout(height='25px', width='50%'),…"
      ]
     },
     "metadata": {},
     "output_type": "display_data"
    },
    {
     "name": "stdout",
     "output_type": "stream",
     "text": [
      "+-------+------------------+\n",
      "|initial|           avg_age|\n",
      "+-------+------------------+\n",
      "| Master| 4.574166666666667|\n",
      "|   Miss|             21.86|\n",
      "|     Mr| 32.73960880195599|\n",
      "|    Mrs|35.981818181818184|\n",
      "|  Other|45.888888888888886|\n",
      "+-------+------------------+"
     ]
    }
   ],
   "source": [
    "import pyspark.sql.functions as sf\n",
    "\n",
    "# avg('age')의 output column 이름이 avg(age)여서 avg_age로 alias 함 \n",
    "titanic_df.groupby('initial').agg(sf.avg('age').alias('avg_age')).orderBy('avg_age', ascending=[1]).show()"
   ]
  },
  {
   "cell_type": "markdown",
   "metadata": {},
   "source": [
    "##### 3.3.3. 각 initial age 평균을 알 수 있으므로 우리는 빈 age 값을 이를 이용하여 좀 더 스마트하게 채워줄 수 있습니다."
   ]
  },
  {
   "cell_type": "code",
   "execution_count": 72,
   "metadata": {},
   "outputs": [
    {
     "data": {
      "application/vnd.jupyter.widget-view+json": {
       "model_id": "ed410ebf174343e3b65391b707dee293",
       "version_major": 2,
       "version_minor": 0
      },
      "text/plain": [
       "FloatProgress(value=0.0, bar_style='info', description='Progress:', layout=Layout(height='25px', width='50%'),…"
      ]
     },
     "metadata": {},
     "output_type": "display_data"
    }
   ],
   "source": [
    "titanic_df = titanic_df.withColumn('age', when((titanic_df['initial'] == 'Miss') & (titanic_df['age'].isNull()), 22).otherwise(titanic_df['age']))\n",
    "titanic_df = titanic_df.withColumn('age', when((titanic_df['initial'] == 'Other') & (titanic_df['age'].isNull()), 46).otherwise(titanic_df['age']))\n",
    "titanic_df = titanic_df.withColumn('age', when((titanic_df['initial'] == 'Master') & (titanic_df['age'].isNull()), 5).otherwise(titanic_df['age']))\n",
    "titanic_df = titanic_df.withColumn('age', when((titanic_df['initial'] == 'Mr') & (titanic_df['age'].isNull()), 33).otherwise(titanic_df['age']))\n",
    "titanic_df = titanic_df.withColumn('age', when((titanic_df['initial'] == 'Mrs') & (titanic_df['age'].isNull()), 36).otherwise(titanic_df['age']))"
   ]
  },
  {
   "cell_type": "markdown",
   "metadata": {},
   "source": [
    "##### 3.3.4. age의 요약 통계를 다시 확인합니다."
   ]
  },
  {
   "cell_type": "code",
   "execution_count": 73,
   "metadata": {},
   "outputs": [
    {
     "data": {
      "application/vnd.jupyter.widget-view+json": {
       "model_id": "6a1bb3c906564240b53e0fce5d2025be",
       "version_major": 2,
       "version_minor": 0
      },
      "text/plain": [
       "FloatProgress(value=0.0, bar_style='info', description='Progress:', layout=Layout(height='25px', width='50%'),…"
      ]
     },
     "metadata": {},
     "output_type": "display_data"
    },
    {
     "name": "stdout",
     "output_type": "stream",
     "text": [
      "+-------+------------------+\n",
      "|summary|               age|\n",
      "+-------+------------------+\n",
      "|  count|               891|\n",
      "|   mean|29.841941638608308|\n",
      "| stddev|13.281524514031318|\n",
      "|    min|              0.42|\n",
      "|    max|              80.0|\n",
      "+-------+------------------+"
     ]
    }
   ],
   "source": [
    "titanic_df.select(col('age')).describe().show()"
   ]
  },
  {
   "cell_type": "markdown",
   "metadata": {},
   "source": [
    "##### null 값 없이 891개의 값이 존재하며, 평균도 이전 값을 유지하고 있는 것을 확인할 수 있습니다."
   ]
  },
  {
   "cell_type": "markdown",
   "metadata": {},
   "source": [
    "##### 3.3.5. initial에 따른 생존율을 확인합니다."
   ]
  },
  {
   "cell_type": "code",
   "execution_count": 74,
   "metadata": {},
   "outputs": [
    {
     "data": {
      "application/vnd.jupyter.widget-view+json": {
       "model_id": "f165d0588927424ab34250b7d859611a",
       "version_major": 2,
       "version_minor": 0
      },
      "text/plain": [
       "FloatProgress(value=0.0, bar_style='info', description='Progress:', layout=Layout(height='25px', width='50%'),…"
      ]
     },
     "metadata": {},
     "output_type": "display_data"
    },
    {
     "name": "stdout",
     "output_type": "stream",
     "text": [
      "+-------+-----+-----+\n",
      "|initial|label|count|\n",
      "+-------+-----+-----+\n",
      "| Master|    0|   17|\n",
      "| Master|    1|   23|\n",
      "|   Miss|    0|   55|\n",
      "|   Miss|    1|  131|\n",
      "|     Mr|    0|  443|\n",
      "|     Mr|    1|   86|\n",
      "|    Mrs|    0|   26|\n",
      "|    Mrs|    1|  101|\n",
      "|  Other|    0|    8|\n",
      "|  Other|    1|    1|\n",
      "+-------+-----+-----+"
     ]
    }
   ],
   "source": [
    "titanic_df.groupBy('initial', 'label').count().orderBy('initial', 'label', ascending=[1, 1]).show()"
   ]
  },
  {
   "cell_type": "markdown",
   "metadata": {},
   "source": [
    "##### 남성일수록 나이가 많을수록 생존율이 낮은 걸 확인할 수 있습니다."
   ]
  },
  {
   "cell_type": "markdown",
   "metadata": {},
   "source": [
    "#### 3.4. Embarked"
   ]
  },
  {
   "cell_type": "code",
   "execution_count": 75,
   "metadata": {},
   "outputs": [
    {
     "data": {
      "application/vnd.jupyter.widget-view+json": {
       "model_id": "5f9d0c10b58f483f8bbea162f3d78494",
       "version_major": 2,
       "version_minor": 0
      },
      "text/plain": [
       "FloatProgress(value=0.0, bar_style='info', description='Progress:', layout=Layout(height='25px', width='50%'),…"
      ]
     },
     "metadata": {},
     "output_type": "display_data"
    },
    {
     "name": "stdout",
     "output_type": "stream",
     "text": [
      "+--------+-----+\n",
      "|embarked|count|\n",
      "+--------+-----+\n",
      "|       Q|   77|\n",
      "|       C|  168|\n",
      "|       S|  644|\n",
      "|        |    2|\n",
      "+--------+-----+"
     ]
    }
   ],
   "source": [
    "titanic_df.groupBy('embarked').count().show()"
   ]
  },
  {
   "cell_type": "markdown",
   "metadata": {},
   "source": [
    "##### 3.4.1. 대부분의 승객이 'S'에 해당하고 missing 값은 단 2개 뿐이므로 missing 값을 'S'로 채워줘도 큰 문제는 없습니다."
   ]
  },
  {
   "cell_type": "code",
   "execution_count": 76,
   "metadata": {},
   "outputs": [
    {
     "data": {
      "application/vnd.jupyter.widget-view+json": {
       "model_id": "e6861be56a8943f79e14fc8ca824ebbe",
       "version_major": 2,
       "version_minor": 0
      },
      "text/plain": [
       "FloatProgress(value=0.0, bar_style='info', description='Progress:', layout=Layout(height='25px', width='50%'),…"
      ]
     },
     "metadata": {},
     "output_type": "display_data"
    }
   ],
   "source": [
    "titanic_df = titanic_df.na.fill({'embarked' : 'S'})"
   ]
  },
  {
   "cell_type": "markdown",
   "metadata": {},
   "source": [
    "#### 3.5. Cabin"
   ]
  },
  {
   "cell_type": "code",
   "execution_count": 77,
   "metadata": {},
   "outputs": [
    {
     "data": {
      "application/vnd.jupyter.widget-view+json": {
       "model_id": "e63989d3351e4f548283075e0c5687cc",
       "version_major": 2,
       "version_minor": 0
      },
      "text/plain": [
       "FloatProgress(value=0.0, bar_style='info', description='Progress:', layout=Layout(height='25px', width='50%'),…"
      ]
     },
     "metadata": {},
     "output_type": "display_data"
    },
    {
     "name": "stdout",
     "output_type": "stream",
     "text": [
      "687"
     ]
    }
   ],
   "source": [
    "titanic_df.where((col('cabin').isNull()) | (col('cabin') == '')).count()"
   ]
  },
  {
   "cell_type": "markdown",
   "metadata": {},
   "source": [
    "##### 3.5.1. cabin feacture는 대다수의 값이 빈 값으로 사용하기 어렵다고 판단되므로 drop 하도록 하겠습니다."
   ]
  },
  {
   "cell_type": "code",
   "execution_count": 78,
   "metadata": {},
   "outputs": [
    {
     "data": {
      "application/vnd.jupyter.widget-view+json": {
       "model_id": "2dfc1d523b114ed4960d14bd965db59a",
       "version_major": 2,
       "version_minor": 0
      },
      "text/plain": [
       "FloatProgress(value=0.0, bar_style='info', description='Progress:', layout=Layout(height='25px', width='50%'),…"
      ]
     },
     "metadata": {},
     "output_type": "display_data"
    }
   ],
   "source": [
    "titanic_df = titanic_df.drop('cabin')"
   ]
  },
  {
   "cell_type": "code",
   "execution_count": 79,
   "metadata": {},
   "outputs": [
    {
     "data": {
      "application/vnd.jupyter.widget-view+json": {
       "model_id": "7f290abf339a405187474d18aa213a9b",
       "version_major": 2,
       "version_minor": 0
      },
      "text/plain": [
       "FloatProgress(value=0.0, bar_style='info', description='Progress:', layout=Layout(height='25px', width='50%'),…"
      ]
     },
     "metadata": {},
     "output_type": "display_data"
    },
    {
     "name": "stdout",
     "output_type": "stream",
     "text": [
      "root\n",
      " |-- passengerid: integer (nullable = true)\n",
      " |-- label: integer (nullable = true)\n",
      " |-- pclass: long (nullable = true)\n",
      " |-- name: string (nullable = true)\n",
      " |-- sex: string (nullable = true)\n",
      " |-- age: double (nullable = true)\n",
      " |-- sibsp: long (nullable = true)\n",
      " |-- parch: long (nullable = true)\n",
      " |-- ticket: string (nullable = true)\n",
      " |-- fare: double (nullable = true)\n",
      " |-- embarked: string (nullable = false)\n",
      " |-- initial: string (nullable = true)"
     ]
    }
   ],
   "source": [
    "titanic_df.printSchema()"
   ]
  },
  {
   "cell_type": "markdown",
   "metadata": {},
   "source": [
    "##### Schema에서 cabin feature가 drop 된 것을 확인할 수 있습니다."
   ]
  },
  {
   "cell_type": "markdown",
   "metadata": {},
   "source": [
    "#### 3.6. Family Size"
   ]
  },
  {
   "cell_type": "markdown",
   "metadata": {},
   "source": [
    "##### 3.6.1. sibsp와 parch를 사용해서 family_size feature를 만들어 사용하도록 하겠습니다."
   ]
  },
  {
   "cell_type": "code",
   "execution_count": 80,
   "metadata": {},
   "outputs": [
    {
     "data": {
      "application/vnd.jupyter.widget-view+json": {
       "model_id": "ea1115e4801b46238973e993915f9836",
       "version_major": 2,
       "version_minor": 0
      },
      "text/plain": [
       "FloatProgress(value=0.0, bar_style='info', description='Progress:', layout=Layout(height='25px', width='50%'),…"
      ]
     },
     "metadata": {},
     "output_type": "display_data"
    }
   ],
   "source": [
    "titanic_df = titanic_df.withColumn('family_size', col('sibsp') + col('parch'))"
   ]
  },
  {
   "cell_type": "code",
   "execution_count": 81,
   "metadata": {},
   "outputs": [
    {
     "data": {
      "application/vnd.jupyter.widget-view+json": {
       "model_id": "cbf7f8466ad3422ca3daa6ae5528631e",
       "version_major": 2,
       "version_minor": 0
      },
      "text/plain": [
       "FloatProgress(value=0.0, bar_style='info', description='Progress:', layout=Layout(height='25px', width='50%'),…"
      ]
     },
     "metadata": {},
     "output_type": "display_data"
    },
    {
     "name": "stdout",
     "output_type": "stream",
     "text": [
      "+-----------+-----+\n",
      "|family_size|count|\n",
      "+-----------+-----+\n",
      "|          0|  537|\n",
      "|          1|  161|\n",
      "|          2|  102|\n",
      "|          3|   29|\n",
      "|          5|   22|\n",
      "|          4|   15|\n",
      "|          6|   12|\n",
      "|         10|    7|\n",
      "|          7|    6|\n",
      "+-----------+-----+"
     ]
    }
   ],
   "source": [
    "titanic_df.groupBy('family_size').count().orderBy('count', ascending=[0]).show()"
   ]
  },
  {
   "cell_type": "markdown",
   "metadata": {},
   "source": [
    "##### 3.6.2. family_size를 확인하니 대다수는 0이어서 alone feature를 따로 만들어 모델링에 사용하도록 하겠습니다.\n",
    "##### alone feature의 기본 값은 0으로 설정합니다."
   ]
  },
  {
   "cell_type": "code",
   "execution_count": 82,
   "metadata": {},
   "outputs": [
    {
     "data": {
      "application/vnd.jupyter.widget-view+json": {
       "model_id": "27d0317b300541128f4c16b00e48417b",
       "version_major": 2,
       "version_minor": 0
      },
      "text/plain": [
       "FloatProgress(value=0.0, bar_style='info', description='Progress:', layout=Layout(height='25px', width='50%'),…"
      ]
     },
     "metadata": {},
     "output_type": "display_data"
    }
   ],
   "source": [
    "titanic_df = titanic_df.withColumn('alone', lit(0))"
   ]
  },
  {
   "cell_type": "markdown",
   "metadata": {},
   "source": [
    "##### family_size가 0이면 alone feature를 1로 설정합니다."
   ]
  },
  {
   "cell_type": "code",
   "execution_count": 83,
   "metadata": {},
   "outputs": [
    {
     "data": {
      "application/vnd.jupyter.widget-view+json": {
       "model_id": "354bf66ba4c545abab27220e1360d6b1",
       "version_major": 2,
       "version_minor": 0
      },
      "text/plain": [
       "FloatProgress(value=0.0, bar_style='info', description='Progress:', layout=Layout(height='25px', width='50%'),…"
      ]
     },
     "metadata": {},
     "output_type": "display_data"
    }
   ],
   "source": [
    "titanic_df = titanic_df.withColumn('alone', when(titanic_df['family_size'] == 0, 1).otherwise(titanic_df['alone']))"
   ]
  },
  {
   "cell_type": "markdown",
   "metadata": {},
   "source": [
    "#### 3.7. Create Index features"
   ]
  },
  {
   "cell_type": "markdown",
   "metadata": {},
   "source": [
    "##### 3.7.1. 현재까지 생성된 column들을 살펴봅니다."
   ]
  },
  {
   "cell_type": "code",
   "execution_count": 84,
   "metadata": {},
   "outputs": [
    {
     "data": {
      "application/vnd.jupyter.widget-view+json": {
       "model_id": "71b9689f230243628ae6c53bc34d44af",
       "version_major": 2,
       "version_minor": 0
      },
      "text/plain": [
       "FloatProgress(value=0.0, bar_style='info', description='Progress:', layout=Layout(height='25px', width='50%'),…"
      ]
     },
     "metadata": {},
     "output_type": "display_data"
    },
    {
     "name": "stdout",
     "output_type": "stream",
     "text": [
      "['passengerid', 'label', 'pclass', 'name', 'sex', 'age', 'sibsp', 'parch', 'ticket', 'fare', 'embarked', 'initial', 'family_size', 'alone']"
     ]
    }
   ],
   "source": [
    "titanic_df.columns"
   ]
  },
  {
   "cell_type": "markdown",
   "metadata": {},
   "source": [
    "##### 3.7.2. 이 중 sex, embarked, initial feature는 값이 string으로 되어있어 모델링에 사용할 수 없습니다. StringIndexer를 이용해서 number로 변환한 후 별도의 column으로 추가합니다."
   ]
  },
  {
   "cell_type": "code",
   "execution_count": 85,
   "metadata": {},
   "outputs": [
    {
     "data": {
      "application/vnd.jupyter.widget-view+json": {
       "model_id": "35d9de233e384ce782bb404dfd8d532a",
       "version_major": 2,
       "version_minor": 0
      },
      "text/plain": [
       "FloatProgress(value=0.0, bar_style='info', description='Progress:', layout=Layout(height='25px', width='50%'),…"
      ]
     },
     "metadata": {},
     "output_type": "display_data"
    },
    {
     "name": "stdout",
     "output_type": "stream",
     "text": [
      "+-----------+-----+------+--------------------+------+----+-----+-----+----------------+--------+--------+-------+-----------+-----+---------+--------------+-------------+\n",
      "|passengerid|label|pclass|                name|   sex| age|sibsp|parch|          ticket|    fare|embarked|initial|family_size|alone|sex_index|embarked_index|initial_index|\n",
      "+-----------+-----+------+--------------------+------+----+-----+-----+----------------+--------+--------+-------+-----------+-----+---------+--------------+-------------+\n",
      "|         26|    1|     3|Mrs. Carl Oscar (...|female|38.0|    1|    5|          347077| 31.3875|       S|    Mrs|          6|    0|      1.0|           0.0|          2.0|\n",
      "|         29|    1|     3|O'Miss. Ellen \"Ne...|female|22.0|    0|    0|          330959|  7.8792|       Q|   Miss|          0|    1|      1.0|           2.0|          1.0|\n",
      "|        474|    1|     2|Mrs. Amin S (Mari...|female|23.0|    0|    0| SC/AH Basle 541| 13.7917|       C|    Mrs|          0|    1|      1.0|           1.0|          2.0|\n",
      "|         65|    0|     1|        Mr. Albert A|  male|33.0|    0|    0|        PC 17605| 27.7208|       C|     Mr|          0|    1|      0.0|           1.0|          0.0|\n",
      "|        191|    1|     2|         Mrs. (Rosa)|female|32.0|    0|    0|          234604|    13.0|       S|    Mrs|          0|    1|      1.0|           0.0|          2.0|\n",
      "|        418|    1|     2|Miss. Lyyli Karol...|female|18.0|    0|    2|          250652|    13.0|       S|   Miss|          2|    0|      1.0|           0.0|          1.0|\n",
      "|        541|    1|     1|     Miss. Harriet R|female|36.0|    0|    2|       WE/P 5735|    71.0|       S|   Miss|          2|    0|      1.0|           0.0|          1.0|\n",
      "|        558|    0|     1|          Mr. Victor|  male|33.0|    0|    0|        PC 17757| 227.525|       C|     Mr|          0|    1|      0.0|           1.0|          0.0|\n",
      "|        222|    0|     2|         Mr. James H|  male|27.0|    0|    0|          220367|    13.0|       S|     Mr|          0|    1|      0.0|           0.0|          0.0|\n",
      "|        270|    1|     1|        Miss. Amelia|female|35.0|    0|    0|        PC 17760|135.6333|       S|   Miss|          0|    1|      1.0|           0.0|          1.0|\n",
      "|        293|    0|     2|    Mr. Rene Jacques|  male|36.0|    0|    0|   SC/Paris 2163|  12.875|       C|     Mr|          0|    1|      0.0|           1.0|          0.0|\n",
      "|        730|    0|     3|   Miss. Pieta Sofia|female|25.0|    1|    0|STON/O2. 3101271|   7.925|       S|   Miss|          1|    0|      1.0|           0.0|          1.0|\n",
      "|        243|    0|     2|Mr. Reginald Charles|  male|29.0|    0|    0|     W./C. 14263|    10.5|       S|     Mr|          0|    1|      0.0|           0.0|          0.0|\n",
      "|        278|    0|     2| Mr. Francis \"Frank\"|  male|33.0|    0|    0|          239853|     0.0|       S|     Mr|          0|    1|      0.0|           0.0|          0.0|\n",
      "|        367|    1|     1|Mrs. Frank Manley...|female|60.0|    1|    0|          110813|   75.25|       C|    Mrs|          1|    0|      1.0|           1.0|          2.0|\n",
      "|        442|    0|     3|            Mr. Leon|  male|20.0|    0|    0|          345769|     9.5|       S|     Mr|          0|    1|      0.0|           0.0|          0.0|\n",
      "|        705|    0|     3|     Mr. Henrik Juul|  male|26.0|    1|    0|          350025|  7.8542|       S|     Mr|          1|    0|      0.0|           0.0|          0.0|\n",
      "|        720|    0|     3| Mr. Malkolm Joackim|  male|33.0|    0|    0|          347062|   7.775|       S|     Mr|          0|    1|      0.0|           0.0|          0.0|\n",
      "|         19|    0|     3|Vander Mrs. Juliu...|female|31.0|    1|    0|          345763|    18.0|       S|    Mrs|          1|    0|      1.0|           0.0|          2.0|\n",
      "|         54|    1|     2|Mrs. Lizzie (Eliz...|female|29.0|    1|    0|            2926|    26.0|       S|    Mrs|          1|    0|      1.0|           0.0|          2.0|\n",
      "+-----------+-----+------+--------------------+------+----+-----+-----+----------------+--------+--------+-------+-----------+-----+---------+--------------+-------------+\n",
      "only showing top 20 rows"
     ]
    }
   ],
   "source": [
    "indexers = [StringIndexer(inputCol=column, outputCol=column+'_index').fit(titanic_df) for column in ['sex', 'embarked', 'initial']]\n",
    "pipeline = Pipeline(stages=indexers)\n",
    "titanic_df = pipeline.fit(titanic_df).transform(titanic_df)\n",
    "titanic_df.show()"
   ]
  },
  {
   "cell_type": "markdown",
   "metadata": {},
   "source": [
    "##### 3.7.3. 변경된 Schema를 확인합니다."
   ]
  },
  {
   "cell_type": "code",
   "execution_count": 86,
   "metadata": {},
   "outputs": [
    {
     "data": {
      "application/vnd.jupyter.widget-view+json": {
       "model_id": "83a71e84d03a431685a21f13b787ce7a",
       "version_major": 2,
       "version_minor": 0
      },
      "text/plain": [
       "FloatProgress(value=0.0, bar_style='info', description='Progress:', layout=Layout(height='25px', width='50%'),…"
      ]
     },
     "metadata": {},
     "output_type": "display_data"
    },
    {
     "name": "stdout",
     "output_type": "stream",
     "text": [
      "root\n",
      " |-- passengerid: integer (nullable = true)\n",
      " |-- label: integer (nullable = true)\n",
      " |-- pclass: long (nullable = true)\n",
      " |-- name: string (nullable = true)\n",
      " |-- sex: string (nullable = true)\n",
      " |-- age: double (nullable = true)\n",
      " |-- sibsp: long (nullable = true)\n",
      " |-- parch: long (nullable = true)\n",
      " |-- ticket: string (nullable = true)\n",
      " |-- fare: double (nullable = true)\n",
      " |-- embarked: string (nullable = false)\n",
      " |-- initial: string (nullable = true)\n",
      " |-- family_size: long (nullable = true)\n",
      " |-- alone: integer (nullable = false)\n",
      " |-- sex_index: double (nullable = true)\n",
      " |-- embarked_index: double (nullable = true)\n",
      " |-- initial_index: double (nullable = true)"
     ]
    }
   ],
   "source": [
    "titanic_df.printSchema()"
   ]
  },
  {
   "cell_type": "markdown",
   "metadata": {},
   "source": [
    "#### 3.8. Drop Columns"
   ]
  },
  {
   "cell_type": "markdown",
   "metadata": {},
   "source": [
    "##### 3.8.1. 모델링에서 사용하지 않는 column들은 Drop 하도록 합니다."
   ]
  },
  {
   "cell_type": "code",
   "execution_count": 87,
   "metadata": {},
   "outputs": [
    {
     "data": {
      "application/vnd.jupyter.widget-view+json": {
       "model_id": "fea9de6900e54ec1a2a20117e2fcd344",
       "version_major": 2,
       "version_minor": 0
      },
      "text/plain": [
       "FloatProgress(value=0.0, bar_style='info', description='Progress:', layout=Layout(height='25px', width='50%'),…"
      ]
     },
     "metadata": {},
     "output_type": "display_data"
    }
   ],
   "source": [
    "titanic_df = titanic_df.drop('passengerid', 'name', 'ticket', 'cabin', 'embarked', 'sex', 'initial')"
   ]
  },
  {
   "cell_type": "markdown",
   "metadata": {},
   "source": [
    "##### 모델링에 사용할 최종 데이터를 확인합니다."
   ]
  },
  {
   "cell_type": "code",
   "execution_count": 88,
   "metadata": {},
   "outputs": [
    {
     "data": {
      "application/vnd.jupyter.widget-view+json": {
       "model_id": "e4729f827d604c81a63cbb259b9f7ffb",
       "version_major": 2,
       "version_minor": 0
      },
      "text/plain": [
       "FloatProgress(value=0.0, bar_style='info', description='Progress:', layout=Layout(height='25px', width='50%'),…"
      ]
     },
     "metadata": {},
     "output_type": "display_data"
    },
    {
     "name": "stdout",
     "output_type": "stream",
     "text": [
      "+-----+------+----+-----+-----+--------+-----------+-----+---------+--------------+-------------+\n",
      "|label|pclass| age|sibsp|parch|    fare|family_size|alone|sex_index|embarked_index|initial_index|\n",
      "+-----+------+----+-----+-----+--------+-----------+-----+---------+--------------+-------------+\n",
      "|    1|     3|38.0|    1|    5| 31.3875|          6|    0|      1.0|           0.0|          2.0|\n",
      "|    1|     3|22.0|    0|    0|  7.8792|          0|    1|      1.0|           2.0|          1.0|\n",
      "|    1|     2|23.0|    0|    0| 13.7917|          0|    1|      1.0|           1.0|          2.0|\n",
      "|    0|     1|33.0|    0|    0| 27.7208|          0|    1|      0.0|           1.0|          0.0|\n",
      "|    1|     2|32.0|    0|    0|    13.0|          0|    1|      1.0|           0.0|          2.0|\n",
      "|    1|     2|18.0|    0|    2|    13.0|          2|    0|      1.0|           0.0|          1.0|\n",
      "|    1|     1|36.0|    0|    2|    71.0|          2|    0|      1.0|           0.0|          1.0|\n",
      "|    0|     1|33.0|    0|    0| 227.525|          0|    1|      0.0|           1.0|          0.0|\n",
      "|    0|     2|27.0|    0|    0|    13.0|          0|    1|      0.0|           0.0|          0.0|\n",
      "|    1|     1|35.0|    0|    0|135.6333|          0|    1|      1.0|           0.0|          1.0|\n",
      "|    0|     2|36.0|    0|    0|  12.875|          0|    1|      0.0|           1.0|          0.0|\n",
      "|    0|     3|25.0|    1|    0|   7.925|          1|    0|      1.0|           0.0|          1.0|\n",
      "|    0|     2|29.0|    0|    0|    10.5|          0|    1|      0.0|           0.0|          0.0|\n",
      "|    0|     2|33.0|    0|    0|     0.0|          0|    1|      0.0|           0.0|          0.0|\n",
      "|    1|     1|60.0|    1|    0|   75.25|          1|    0|      1.0|           1.0|          2.0|\n",
      "|    0|     3|20.0|    0|    0|     9.5|          0|    1|      0.0|           0.0|          0.0|\n",
      "|    0|     3|26.0|    1|    0|  7.8542|          1|    0|      0.0|           0.0|          0.0|\n",
      "|    0|     3|33.0|    0|    0|   7.775|          0|    1|      0.0|           0.0|          0.0|\n",
      "|    0|     3|31.0|    1|    0|    18.0|          1|    0|      1.0|           0.0|          2.0|\n",
      "|    1|     2|29.0|    1|    0|    26.0|          1|    0|      1.0|           0.0|          2.0|\n",
      "+-----+------+----+-----+-----+--------+-----------+-----+---------+--------------+-------------+\n",
      "only showing top 20 rows"
     ]
    }
   ],
   "source": [
    "titanic_df.show()"
   ]
  },
  {
   "cell_type": "markdown",
   "metadata": {},
   "source": [
    "#### 3.9. Put all features into vector"
   ]
  },
  {
   "cell_type": "markdown",
   "metadata": {},
   "source": [
    "##### 3.9.1. 모델에서 해당 feature들을 사용하기 위해서 VectorAssembler를 이용해서 vector화 합니다."
   ]
  },
  {
   "cell_type": "code",
   "execution_count": 89,
   "metadata": {},
   "outputs": [
    {
     "data": {
      "application/vnd.jupyter.widget-view+json": {
       "model_id": "e6336563ed8340d39bc85bd5cf8efb21",
       "version_major": 2,
       "version_minor": 0
      },
      "text/plain": [
       "FloatProgress(value=0.0, bar_style='info', description='Progress:', layout=Layout(height='25px', width='50%'),…"
      ]
     },
     "metadata": {},
     "output_type": "display_data"
    }
   ],
   "source": [
    "feature = VectorAssembler(inputCols=titanic_df.columns[1:], outputCol='features')\n",
    "feature_vector= feature.transform(titanic_df)"
   ]
  },
  {
   "cell_type": "markdown",
   "metadata": {},
   "source": [
    "##### 3.9.2. features column이 추가된 것을 확인할 수 있습니다."
   ]
  },
  {
   "cell_type": "code",
   "execution_count": 90,
   "metadata": {},
   "outputs": [
    {
     "data": {
      "application/vnd.jupyter.widget-view+json": {
       "model_id": "231dcc03a459454892d2d9e2341af576",
       "version_major": 2,
       "version_minor": 0
      },
      "text/plain": [
       "FloatProgress(value=0.0, bar_style='info', description='Progress:', layout=Layout(height='25px', width='50%'),…"
      ]
     },
     "metadata": {},
     "output_type": "display_data"
    },
    {
     "name": "stdout",
     "output_type": "stream",
     "text": [
      "+-----+------+----+-----+-----+--------+-----------+-----+---------+--------------+-------------+--------------------+\n",
      "|label|pclass| age|sibsp|parch|    fare|family_size|alone|sex_index|embarked_index|initial_index|            features|\n",
      "+-----+------+----+-----+-----+--------+-----------+-----+---------+--------------+-------------+--------------------+\n",
      "|    1|     3|38.0|    1|    5| 31.3875|          6|    0|      1.0|           0.0|          2.0|[3.0,38.0,1.0,5.0...|\n",
      "|    1|     3|22.0|    0|    0|  7.8792|          0|    1|      1.0|           2.0|          1.0|[3.0,22.0,0.0,0.0...|\n",
      "|    1|     2|23.0|    0|    0| 13.7917|          0|    1|      1.0|           1.0|          2.0|[2.0,23.0,0.0,0.0...|\n",
      "|    0|     1|33.0|    0|    0| 27.7208|          0|    1|      0.0|           1.0|          0.0|(10,[0,1,4,6,8],[...|\n",
      "|    1|     2|32.0|    0|    0|    13.0|          0|    1|      1.0|           0.0|          2.0|[2.0,32.0,0.0,0.0...|\n",
      "|    1|     2|18.0|    0|    2|    13.0|          2|    0|      1.0|           0.0|          1.0|[2.0,18.0,0.0,2.0...|\n",
      "|    1|     1|36.0|    0|    2|    71.0|          2|    0|      1.0|           0.0|          1.0|[1.0,36.0,0.0,2.0...|\n",
      "|    0|     1|33.0|    0|    0| 227.525|          0|    1|      0.0|           1.0|          0.0|(10,[0,1,4,6,8],[...|\n",
      "|    0|     2|27.0|    0|    0|    13.0|          0|    1|      0.0|           0.0|          0.0|(10,[0,1,4,6],[2....|\n",
      "|    1|     1|35.0|    0|    0|135.6333|          0|    1|      1.0|           0.0|          1.0|[1.0,35.0,0.0,0.0...|\n",
      "|    0|     2|36.0|    0|    0|  12.875|          0|    1|      0.0|           1.0|          0.0|(10,[0,1,4,6,8],[...|\n",
      "|    0|     3|25.0|    1|    0|   7.925|          1|    0|      1.0|           0.0|          1.0|[3.0,25.0,1.0,0.0...|\n",
      "|    0|     2|29.0|    0|    0|    10.5|          0|    1|      0.0|           0.0|          0.0|(10,[0,1,4,6],[2....|\n",
      "|    0|     2|33.0|    0|    0|     0.0|          0|    1|      0.0|           0.0|          0.0|(10,[0,1,6],[2.0,...|\n",
      "|    1|     1|60.0|    1|    0|   75.25|          1|    0|      1.0|           1.0|          2.0|[1.0,60.0,1.0,0.0...|\n",
      "|    0|     3|20.0|    0|    0|     9.5|          0|    1|      0.0|           0.0|          0.0|(10,[0,1,4,6],[3....|\n",
      "|    0|     3|26.0|    1|    0|  7.8542|          1|    0|      0.0|           0.0|          0.0|(10,[0,1,2,4,5],[...|\n",
      "|    0|     3|33.0|    0|    0|   7.775|          0|    1|      0.0|           0.0|          0.0|(10,[0,1,4,6],[3....|\n",
      "|    0|     3|31.0|    1|    0|    18.0|          1|    0|      1.0|           0.0|          2.0|[3.0,31.0,1.0,0.0...|\n",
      "|    1|     2|29.0|    1|    0|    26.0|          1|    0|      1.0|           0.0|          2.0|[2.0,29.0,1.0,0.0...|\n",
      "+-----+------+----+-----+-----+--------+-----------+-----+---------+--------------+-------------+--------------------+\n",
      "only showing top 20 rows"
     ]
    }
   ],
   "source": [
    "feature_vector.show()"
   ]
  },
  {
   "cell_type": "markdown",
   "metadata": {},
   "source": [
    "### 4. Modelling"
   ]
  },
  {
   "cell_type": "markdown",
   "metadata": {},
   "source": [
    "#### 4.1. 모델 평가를 위해 train 데이터와 test 데이터를 약 80:20 비율로 준비합니다."
   ]
  },
  {
   "cell_type": "code",
   "execution_count": 91,
   "metadata": {},
   "outputs": [
    {
     "data": {
      "application/vnd.jupyter.widget-view+json": {
       "model_id": "0f93b94fab1f461493623a6c182578ad",
       "version_major": 2,
       "version_minor": 0
      },
      "text/plain": [
       "FloatProgress(value=0.0, bar_style='info', description='Progress:', layout=Layout(height='25px', width='50%'),…"
      ]
     },
     "metadata": {},
     "output_type": "display_data"
    }
   ],
   "source": [
    "(training_data, test_data) = feature_vector.randomSplit([0.8, 0.2], seed=11)"
   ]
  },
  {
   "cell_type": "markdown",
   "metadata": {},
   "source": [
    "#### 4.2. [LogisticRegression](https://spark.apache.org/docs/latest/ml-classification-regression.html#logistic-regression)\n",
    "##### 분류에 사용하는 모델로 선형 함수 결과를 시그모이드 함수를 이용하여 0 ~ 1 사이로 압축합니다. 이진 분류는 0.5보다 높을 때는 True, 그이하는 Flase로 하여 모델을 학습시킵니다."
   ]
  },
  {
   "cell_type": "code",
   "execution_count": 44,
   "metadata": {},
   "outputs": [
    {
     "name": "stdout",
     "output_type": "stream",
     "text": [
      "+----------+--------+--------------------+\n",
      "|prediction|survived|            features|\n",
      "+----------+--------+--------------------+\n",
      "|       0.0|       0|(10,[0,1,4,6,8],[...|\n",
      "|       0.0|       0|(10,[0,1,4,6],[3....|\n",
      "|       0.0|       0|(10,[0,1,4,6,8],[...|\n",
      "|       1.0|       0|[3.0,31.0,1.0,0.0...|\n",
      "|       0.0|       1|(10,[0,1,4,6],[3....|\n",
      "|       1.0|       1|[1.0,45.0,1.0,1.0...|\n",
      "|       0.0|       0|(10,[0,1,3,4,5],[...|\n",
      "|       0.0|       0|[3.0,22.0,3.0,1.0...|\n",
      "|       0.0|       0|(10,[0,1,4,6],[1....|\n",
      "|       0.0|       0|(10,[0,1,4,6],[1....|\n",
      "|       1.0|       1|[1.0,62.0,0.0,0.0...|\n",
      "|       1.0|       0|[1.0,37.0,0.0,1.0...|\n",
      "|       0.0|       0|[3.0,22.0,1.0,2.0...|\n",
      "|       0.0|       0|(10,[0,1,4,6,8],[...|\n",
      "|       0.0|       0|(10,[0,1,4,6],[3....|\n",
      "|       0.0|       1|(10,[0,1,4,6],[3....|\n",
      "|       0.0|       0|(10,[0,1,3,4,5],[...|\n",
      "|       0.0|       0|(10,[0,1,4,6],[2....|\n",
      "|       0.0|       0|[3.0,48.0,1.0,3.0...|\n",
      "|       0.0|       0|(10,[0,1,4,6,8],[...|\n",
      "+----------+--------+--------------------+\n",
      "only showing top 20 rows"
     ]
    }
   ],
   "source": [
    "from pyspark.ml.classification import LogisticRegression\n",
    "\n",
    "lr = LogisticRegression(labelCol='label', featuresCol='features')\n",
    "pipeline = Pipeline(stages=[lr])\n",
    "lrModel = pipeline.fit(training_data)\n",
    "lr_prediction = lrModel.transform(test_data)\n",
    "lr_prediction.select('prediction', 'label', 'features').show()\n",
    "evaluator = MulticlassClassificationEvaluator(labelCol='label', predictionCol='prediction', metricName='accuracy')"
   ]
  },
  {
   "cell_type": "markdown",
   "metadata": {},
   "source": [
    "#### Evaluating accuracy of LogisticRegression."
   ]
  },
  {
   "cell_type": "code",
   "execution_count": 45,
   "metadata": {},
   "outputs": [
    {
     "name": "stdout",
     "output_type": "stream",
     "text": [
      "Accuracy of LogisticRegression is = 0.857143\n",
      "Test Error of LogisticRegression = 0.142857"
     ]
    }
   ],
   "source": [
    "lr_accuracy = evaluator.evaluate(lr_prediction)\n",
    "print(\"Accuracy of LogisticRegression is = %g\" % (lr_accuracy))\n",
    "print(\"Test Error of LogisticRegression = %g \" % (1.0 - lr_accuracy))"
   ]
  },
  {
   "cell_type": "markdown",
   "metadata": {},
   "source": [
    "#### 4.3. [DecisionTreeClassifier](https://spark.apache.org/docs/latest/ml-classification-regression.html#decision-tree-classifier)\n",
    "##### 의사결정 규칙(rule)을 트리구조로 도표화하여 분류(classification)와 예측(prediction)을 수행하는 분석방법입니다."
   ]
  },
  {
   "cell_type": "code",
   "execution_count": 46,
   "metadata": {},
   "outputs": [
    {
     "name": "stdout",
     "output_type": "stream",
     "text": [
      "+----------+--------+--------------------+\n",
      "|prediction|survived|            features|\n",
      "+----------+--------+--------------------+\n",
      "|       0.0|       0|(10,[0,1,4,6,8],[...|\n",
      "|       0.0|       0|(10,[0,1,4,6],[3....|\n",
      "|       0.0|       0|(10,[0,1,4,6,8],[...|\n",
      "|       1.0|       0|[3.0,31.0,1.0,0.0...|\n",
      "|       0.0|       1|(10,[0,1,4,6],[3....|\n",
      "|       1.0|       1|[1.0,45.0,1.0,1.0...|\n",
      "|       0.0|       0|(10,[0,1,3,4,5],[...|\n",
      "|       0.0|       0|[3.0,22.0,3.0,1.0...|\n",
      "|       0.0|       0|(10,[0,1,4,6],[1....|\n",
      "|       0.0|       0|(10,[0,1,4,6],[1....|\n",
      "|       1.0|       1|[1.0,62.0,0.0,0.0...|\n",
      "|       0.0|       0|[1.0,37.0,0.0,1.0...|\n",
      "|       1.0|       0|[3.0,22.0,1.0,2.0...|\n",
      "|       0.0|       0|(10,[0,1,4,6,8],[...|\n",
      "|       0.0|       0|(10,[0,1,4,6],[3....|\n",
      "|       0.0|       1|(10,[0,1,4,6],[3....|\n",
      "|       0.0|       0|(10,[0,1,3,4,5],[...|\n",
      "|       0.0|       0|(10,[0,1,4,6],[2....|\n",
      "|       0.0|       0|[3.0,48.0,1.0,3.0...|\n",
      "|       0.0|       0|(10,[0,1,4,6,8],[...|\n",
      "+----------+--------+--------------------+\n",
      "only showing top 20 rows"
     ]
    }
   ],
   "source": [
    "from pyspark.ml.classification import DecisionTreeClassifier\n",
    "\n",
    "dt = DecisionTreeClassifier(labelCol='label', featuresCol='features')\n",
    "pipeline = Pipeline(stages=[dt])\n",
    "dt_model = pipeline.fit(training_data)\n",
    "dt_prediction = dt_model.transform(test_data)\n",
    "dt_prediction.select('prediction', 'label', 'features').show()"
   ]
  },
  {
   "cell_type": "markdown",
   "metadata": {},
   "source": [
    "#### Evaluating accuracy of DecisionTreeClassifier."
   ]
  },
  {
   "cell_type": "code",
   "execution_count": 47,
   "metadata": {},
   "outputs": [
    {
     "name": "stdout",
     "output_type": "stream",
     "text": [
      "Accuracy of DecisionTreeClassifier is = 0.82967\n",
      "Test Error of DecisionTreeClassifier = 0.17033"
     ]
    }
   ],
   "source": [
    "dt_accuracy = evaluator.evaluate(dt_prediction)\n",
    "print(\"Accuracy of DecisionTreeClassifier is = %g\" % (dt_accuracy))\n",
    "print(\"Test Error of DecisionTreeClassifier = %g \" % (1.0 - dt_accuracy))"
   ]
  },
  {
   "cell_type": "markdown",
   "metadata": {},
   "source": [
    "#### 4.4. [RandomForestClassifier](https://spark.apache.org/docs/latest/ml-classification-regression.html#random-forest-classifier)\n",
    "##### 분류, 회귀분석 등에 사용되는 앙상블 학습 방법의 일종으로, 훈련 과정에서 구성한 다수의 결정 트리로 부터 분류 또는 평균 예측치(회귀분석)를 출력함으로써 동작합니다."
   ]
  },
  {
   "cell_type": "code",
   "execution_count": 48,
   "metadata": {},
   "outputs": [
    {
     "name": "stdout",
     "output_type": "stream",
     "text": [
      "+----------+--------+--------------------+\n",
      "|prediction|survived|            features|\n",
      "+----------+--------+--------------------+\n",
      "|       0.0|       0|(10,[0,1,4,6,8],[...|\n",
      "|       0.0|       0|(10,[0,1,4,6],[3....|\n",
      "|       0.0|       0|(10,[0,1,4,6,8],[...|\n",
      "|       1.0|       0|[3.0,31.0,1.0,0.0...|\n",
      "|       0.0|       1|(10,[0,1,4,6],[3....|\n",
      "|       1.0|       1|[1.0,45.0,1.0,1.0...|\n",
      "|       0.0|       0|(10,[0,1,3,4,5],[...|\n",
      "|       0.0|       0|[3.0,22.0,3.0,1.0...|\n",
      "|       0.0|       0|(10,[0,1,4,6],[1....|\n",
      "|       0.0|       0|(10,[0,1,4,6],[1....|\n",
      "|       1.0|       1|[1.0,62.0,0.0,0.0...|\n",
      "|       0.0|       0|[1.0,37.0,0.0,1.0...|\n",
      "|       1.0|       0|[3.0,22.0,1.0,2.0...|\n",
      "|       0.0|       0|(10,[0,1,4,6,8],[...|\n",
      "|       0.0|       0|(10,[0,1,4,6],[3....|\n",
      "|       0.0|       1|(10,[0,1,4,6],[3....|\n",
      "|       0.0|       0|(10,[0,1,3,4,5],[...|\n",
      "|       0.0|       0|(10,[0,1,4,6],[2....|\n",
      "|       0.0|       0|[3.0,48.0,1.0,3.0...|\n",
      "|       0.0|       0|(10,[0,1,4,6,8],[...|\n",
      "+----------+--------+--------------------+\n",
      "only showing top 20 rows"
     ]
    }
   ],
   "source": [
    "from pyspark.ml.classification import RandomForestClassifier\n",
    "rf = DecisionTreeClassifier(labelCol='label', featuresCol='features')\n",
    "pipeline = Pipeline(stages=[rf])\n",
    "rf_model = pipeline.fit(training_data)\n",
    "rf_prediction = rf_model.transform(test_data)\n",
    "rf_prediction.select('prediction', 'label', 'features').show()"
   ]
  },
  {
   "cell_type": "markdown",
   "metadata": {},
   "source": [
    "#### Evaluating accuracy of RandomForestClassifier."
   ]
  },
  {
   "cell_type": "code",
   "execution_count": 49,
   "metadata": {},
   "outputs": [
    {
     "name": "stdout",
     "output_type": "stream",
     "text": [
      "Accuracy of RandomForestClassifier is = 0.82967\n",
      "Test Error of RandomForestClassifier  = 0.17033"
     ]
    }
   ],
   "source": [
    "rf_accuracy = evaluator.evaluate(rf_prediction)\n",
    "print(\"Accuracy of RandomForestClassifier is = %g\" % (rf_accuracy))\n",
    "print(\"Test Error of RandomForestClassifier  = %g \" % (1.0 - rf_accuracy))"
   ]
  },
  {
   "cell_type": "markdown",
   "metadata": {},
   "source": [
    "#### 4.5. [Gradient-boosted tree classifier](https://spark.apache.org/docs/latest/ml-classification-regression.html#gradient-boosted-tree-classifier)\n",
    "##### Gradient-Boosted Trees (GBT)는 의사 결정 트리의 앙상블입니다. GBT는 손실 함수를 최소화하기 위해 의사 결정 트리를 반복적으로 훈련시킵니다."
   ]
  },
  {
   "cell_type": "code",
   "execution_count": 50,
   "metadata": {},
   "outputs": [
    {
     "name": "stdout",
     "output_type": "stream",
     "text": [
      "+----------+--------+--------------------+\n",
      "|prediction|survived|            features|\n",
      "+----------+--------+--------------------+\n",
      "|       0.0|       0|(10,[0,1,4,6,8],[...|\n",
      "|       0.0|       0|(10,[0,1,4,6],[3....|\n",
      "|       1.0|       0|(10,[0,1,4,6,8],[...|\n",
      "|       1.0|       0|[3.0,31.0,1.0,0.0...|\n",
      "|       0.0|       1|(10,[0,1,4,6],[3....|\n",
      "|       1.0|       1|[1.0,45.0,1.0,1.0...|\n",
      "|       0.0|       0|(10,[0,1,3,4,5],[...|\n",
      "|       0.0|       0|[3.0,22.0,3.0,1.0...|\n",
      "|       0.0|       0|(10,[0,1,4,6],[1....|\n",
      "|       0.0|       0|(10,[0,1,4,6],[1....|\n",
      "|       1.0|       1|[1.0,62.0,0.0,0.0...|\n",
      "|       1.0|       0|[1.0,37.0,0.0,1.0...|\n",
      "|       0.0|       0|[3.0,22.0,1.0,2.0...|\n",
      "|       0.0|       0|(10,[0,1,4,6,8],[...|\n",
      "|       0.0|       0|(10,[0,1,4,6],[3....|\n",
      "|       0.0|       1|(10,[0,1,4,6],[3....|\n",
      "|       0.0|       0|(10,[0,1,3,4,5],[...|\n",
      "|       0.0|       0|(10,[0,1,4,6],[2....|\n",
      "|       0.0|       0|[3.0,48.0,1.0,3.0...|\n",
      "|       0.0|       0|(10,[0,1,4,6,8],[...|\n",
      "+----------+--------+--------------------+\n",
      "only showing top 20 rows"
     ]
    }
   ],
   "source": [
    "from pyspark.ml.classification import GBTClassifier\n",
    "\n",
    "gbt = GBTClassifier(labelCol='label', featuresCol='features', maxIter=10)\n",
    "pipeline = Pipeline(stages=[gbt])\n",
    "gbt_model = pipeline.fit(training_data)\n",
    "gbt_prediction = gbt_model.transform(test_data)\n",
    "gbt_prediction.select('prediction', 'label', 'features').show()"
   ]
  },
  {
   "cell_type": "markdown",
   "metadata": {},
   "source": [
    "#### Evaluate accuracy of Gradient-boosted."
   ]
  },
  {
   "cell_type": "code",
   "execution_count": 51,
   "metadata": {},
   "outputs": [
    {
     "name": "stdout",
     "output_type": "stream",
     "text": [
      "Accuracy of Gradient-boosted tree classifie is = 0.791209\n",
      "Test Error of Gradient-boosted tree classifie 0.208791"
     ]
    }
   ],
   "source": [
    "gbt_accuracy = evaluator.evaluate(gbt_prediction)\n",
    "print(\"Accuracy of Gradient-boosted tree classifie is = %g\" % (gbt_accuracy))\n",
    "print(\"Test Error of Gradient-boosted tree classifie %g\" % (1.0 - gbt_accuracy))"
   ]
  },
  {
   "cell_type": "markdown",
   "metadata": {},
   "source": [
    "#### 4.6. [NaiveBayes](https://spark.apache.org/docs/latest/ml-classification-regression.html#naive-bayes)\n",
    "##### 각 사건 특성들이 독립이라는 가정 하에 베이즈 정리(Bayes’ theorem)을 적용한 간단한 확률 기반 분류입니다."
   ]
  },
  {
   "cell_type": "code",
   "execution_count": 52,
   "metadata": {},
   "outputs": [
    {
     "name": "stdout",
     "output_type": "stream",
     "text": [
      "+----------+--------+--------------------+\n",
      "|prediction|survived|            features|\n",
      "+----------+--------+--------------------+\n",
      "|       0.0|       0|(10,[0,1,4,6,8],[...|\n",
      "|       0.0|       0|(10,[0,1,4,6],[3....|\n",
      "|       0.0|       0|(10,[0,1,4,6,8],[...|\n",
      "|       0.0|       0|[3.0,31.0,1.0,0.0...|\n",
      "|       0.0|       1|(10,[0,1,4,6],[3....|\n",
      "|       1.0|       1|[1.0,45.0,1.0,1.0...|\n",
      "|       0.0|       0|(10,[0,1,3,4,5],[...|\n",
      "|       0.0|       0|[3.0,22.0,3.0,1.0...|\n",
      "|       0.0|       0|(10,[0,1,4,6],[1....|\n",
      "|       0.0|       0|(10,[0,1,4,6],[1....|\n",
      "|       1.0|       1|[1.0,62.0,0.0,0.0...|\n",
      "|       0.0|       0|[1.0,37.0,0.0,1.0...|\n",
      "|       0.0|       0|[3.0,22.0,1.0,2.0...|\n",
      "|       0.0|       0|(10,[0,1,4,6,8],[...|\n",
      "|       0.0|       0|(10,[0,1,4,6],[3....|\n",
      "|       0.0|       1|(10,[0,1,4,6],[3....|\n",
      "|       0.0|       0|(10,[0,1,3,4,5],[...|\n",
      "|       0.0|       0|(10,[0,1,4,6],[2....|\n",
      "|       0.0|       0|[3.0,48.0,1.0,3.0...|\n",
      "|       0.0|       0|(10,[0,1,4,6,8],[...|\n",
      "+----------+--------+--------------------+\n",
      "only showing top 20 rows"
     ]
    }
   ],
   "source": [
    "from pyspark.ml.classification import NaiveBayes\n",
    "\n",
    "nb = NaiveBayes(labelCol='label', featuresCol='features')\n",
    "pipeline = Pipeline(stages=[nb])\n",
    "nb_model = pipeline.fit(training_data)\n",
    "nb_prediction = nb_model.transform(test_data)\n",
    "nb_prediction.select('prediction', 'label', 'features').show()"
   ]
  },
  {
   "cell_type": "markdown",
   "metadata": {},
   "source": [
    "#### Evaluating accuracy of NaiveBayes."
   ]
  },
  {
   "cell_type": "code",
   "execution_count": 53,
   "metadata": {},
   "outputs": [
    {
     "name": "stdout",
     "output_type": "stream",
     "text": [
      "Accuracy of NaiveBayes is  = 0.714286\n",
      "Test Error of NaiveBayes  = 0.285714"
     ]
    }
   ],
   "source": [
    "nb_accuracy = evaluator.evaluate(nb_prediction)\n",
    "print(\"Accuracy of NaiveBayes is  = %g\" % (nb_accuracy))\n",
    "print(\"Test Error of NaiveBayes  = %g \" % (1.0 - nb_accuracy))"
   ]
  },
  {
   "cell_type": "markdown",
   "metadata": {},
   "source": [
    "#### 4.7. [Support Vector Machine](https://spark.apache.org/docs/latest/ml-classification-regression.html#linear-support-vector-machine)\n",
    "##### 바이너리 분류 알고리즘으로 N차원 장소에서 2가지 유형의 점 집합이 주어지면 SVM은 (N-1) 차원의 초평면(hyperplane)을 생성하여, 이 점들을 두 그룹으로 분리합니다."
   ]
  },
  {
   "cell_type": "code",
   "execution_count": 54,
   "metadata": {},
   "outputs": [
    {
     "name": "stdout",
     "output_type": "stream",
     "text": [
      "+----------+--------+--------------------+\n",
      "|prediction|survived|            features|\n",
      "+----------+--------+--------------------+\n",
      "|       0.0|       0|(10,[0,1,4,6,8],[...|\n",
      "|       0.0|       0|(10,[0,1,4,6],[3....|\n",
      "|       0.0|       0|(10,[0,1,4,6,8],[...|\n",
      "|       1.0|       0|[3.0,31.0,1.0,0.0...|\n",
      "|       0.0|       1|(10,[0,1,4,6],[3....|\n",
      "|       1.0|       1|[1.0,45.0,1.0,1.0...|\n",
      "|       0.0|       0|(10,[0,1,3,4,5],[...|\n",
      "|       0.0|       0|[3.0,22.0,3.0,1.0...|\n",
      "|       0.0|       0|(10,[0,1,4,6],[1....|\n",
      "|       0.0|       0|(10,[0,1,4,6],[1....|\n",
      "|       1.0|       1|[1.0,62.0,0.0,0.0...|\n",
      "|       0.0|       0|[1.0,37.0,0.0,1.0...|\n",
      "|       1.0|       0|[3.0,22.0,1.0,2.0...|\n",
      "|       0.0|       0|(10,[0,1,4,6,8],[...|\n",
      "|       0.0|       0|(10,[0,1,4,6],[3....|\n",
      "|       0.0|       1|(10,[0,1,4,6],[3....|\n",
      "|       0.0|       0|(10,[0,1,3,4,5],[...|\n",
      "|       0.0|       0|(10,[0,1,4,6],[2....|\n",
      "|       1.0|       0|[3.0,48.0,1.0,3.0...|\n",
      "|       0.0|       0|(10,[0,1,4,6,8],[...|\n",
      "+----------+--------+--------------------+\n",
      "only showing top 20 rows"
     ]
    }
   ],
   "source": [
    "from pyspark.ml.classification import LinearSVC\n",
    "\n",
    "svm = LinearSVC(labelCol='label', featuresCol='features')\n",
    "pipeline = Pipeline(stages=[svm])\n",
    "svm_model = pipeline.fit(training_data)\n",
    "svm_prediction = svm_model.transform(test_data)\n",
    "svm_prediction.select('prediction', 'label', 'features').show()"
   ]
  },
  {
   "cell_type": "markdown",
   "metadata": {},
   "source": [
    "#### Evaluating the accuracy of Support Vector Machine."
   ]
  },
  {
   "cell_type": "code",
   "execution_count": 55,
   "metadata": {},
   "outputs": [
    {
     "name": "stdout",
     "output_type": "stream",
     "text": [
      "Accuracy of Support Vector Machine is = 0.840659\n",
      "Test Error of Support Vector Machine = 0.159341"
     ]
    }
   ],
   "source": [
    "svm_accuracy = evaluator.evaluate(svm_prediction)\n",
    "print(\"Accuracy of Support Vector Machine is = %g\" % (svm_accuracy))\n",
    "print(\"Test Error of Support Vector Machine = %g \" % (1.0 - svm_accuracy))"
   ]
  },
  {
   "cell_type": "markdown",
   "metadata": {},
   "source": [
    "#### 4.8. [SageMaker XGBoost](https://docs.aws.amazon.com/ko_kr/sagemaker/latest/dg/xgboost.html)\n",
    "#### XGBoost(eXtreme Gradient Boosting)는 그라디언트 부스팅 트리 알고리즘에서 유명하고 효율적인 오픈 소스 구현입니다. 그라디언트 부스팅은 더욱 단순하고 약한 모델 세트의 추정치를 결합하여 대상 변수를 정확하게 예측하려 시도하는 지도 학습 알고리즘입니다."
   ]
  },
  {
   "cell_type": "code",
   "execution_count": 92,
   "metadata": {},
   "outputs": [
    {
     "data": {
      "application/vnd.jupyter.widget-view+json": {
       "model_id": "e70669ce54204025b43ed0ed1b1d2497",
       "version_major": 2,
       "version_minor": 0
      },
      "text/plain": [
       "FloatProgress(value=0.0, bar_style='info', description='Progress:', layout=Layout(height='25px', width='50%'),…"
      ]
     },
     "metadata": {},
     "output_type": "display_data"
    },
    {
     "name": "stderr",
     "output_type": "stream",
     "text": [
      "An error occurred while calling None.com.amazonaws.services.sagemaker.sparksdk.algorithms.XGBoostSageMakerEstimator.\n",
      ": java.lang.RuntimeException: The region ap-northeast-2 is not supported.Supported Regions: eu-west-1, us-east-1, us-east-2, us-west-2\n",
      "\tat com.amazonaws.services.sagemaker.sparksdk.algorithms.SageMakerImageURIProvider$.getImage(ImageURIProvider.scala:26)\n",
      "\tat com.amazonaws.services.sagemaker.sparksdk.algorithms.XGBoostSageMakerEstimator.<init>(XGBoostSageMakerEstimator.scala:513)\n",
      "\tat sun.reflect.NativeConstructorAccessorImpl.newInstance0(Native Method)\n",
      "\tat sun.reflect.NativeConstructorAccessorImpl.newInstance(NativeConstructorAccessorImpl.java:62)\n",
      "\tat sun.reflect.DelegatingConstructorAccessorImpl.newInstance(DelegatingConstructorAccessorImpl.java:45)\n",
      "\tat java.lang.reflect.Constructor.newInstance(Constructor.java:423)\n",
      "\tat py4j.reflection.MethodInvoker.invoke(MethodInvoker.java:247)\n",
      "\tat py4j.reflection.ReflectionEngine.invoke(ReflectionEngine.java:357)\n",
      "\tat py4j.Gateway.invoke(Gateway.java:236)\n",
      "\tat py4j.commands.ConstructorCommand.invokeConstructor(ConstructorCommand.java:80)\n",
      "\tat py4j.commands.ConstructorCommand.execute(ConstructorCommand.java:69)\n",
      "\tat py4j.GatewayConnection.run(GatewayConnection.java:214)\n",
      "\tat java.lang.Thread.run(Thread.java:748)\n",
      "\n",
      "Traceback (most recent call last):\n",
      "  File \"/usr/local/lib/python2.7/site-packages/sagemaker_pyspark/algorithms/XGBoostSageMakerEstimator.py\", line 384, in __init__\n",
      "    super(XGBoostSageMakerEstimator, self).__init__(**kwargs)\n",
      "  File \"/mnt/yarn/usercache/livy/appcache/application_1565781447472_0001/container_1565781447472_0001_01_000001/pyspark.zip/pyspark/__init__.py\", line 104, in wrapper\n",
      "    return func(self, **kwargs)\n",
      "  File \"/usr/local/lib/python2.7/site-packages/sagemaker_pyspark/SageMakerEstimator.py\", line 112, in __init__\n",
      "    self._java_obj = self._get_java_obj(**kwargs)\n",
      "  File \"/usr/local/lib/python2.7/site-packages/sagemaker_pyspark/algorithms/XGBoostSageMakerEstimator.py\", line 418, in _get_java_obj\n",
      "    kwargs['uid']\n",
      "  File \"/usr/local/lib/python2.7/site-packages/sagemaker_pyspark/wrapper.py\", line 59, in _new_java_obj\n",
      "    return JavaWrapper._new_java_obj(java_class, *java_args)\n",
      "  File \"/mnt/yarn/usercache/livy/appcache/application_1565781447472_0001/container_1565781447472_0001_01_000001/pyspark.zip/pyspark/ml/wrapper.py\", line 63, in _new_java_obj\n",
      "    return java_obj(*java_args)\n",
      "  File \"/mnt/yarn/usercache/livy/appcache/application_1565781447472_0001/container_1565781447472_0001_01_000001/py4j-0.10.4-src.zip/py4j/java_gateway.py\", line 1401, in __call__\n",
      "    answer, self._gateway_client, None, self._fqn)\n",
      "  File \"/mnt/yarn/usercache/livy/appcache/application_1565781447472_0001/container_1565781447472_0001_01_000001/pyspark.zip/pyspark/sql/utils.py\", line 63, in deco\n",
      "    return f(*a, **kw)\n",
      "  File \"/mnt/yarn/usercache/livy/appcache/application_1565781447472_0001/container_1565781447472_0001_01_000001/py4j-0.10.4-src.zip/py4j/protocol.py\", line 319, in get_return_value\n",
      "    format(target_id, \".\", name), value)\n",
      "Py4JJavaError: An error occurred while calling None.com.amazonaws.services.sagemaker.sparksdk.algorithms.XGBoostSageMakerEstimator.\n",
      ": java.lang.RuntimeException: The region ap-northeast-2 is not supported.Supported Regions: eu-west-1, us-east-1, us-east-2, us-west-2\n",
      "\tat com.amazonaws.services.sagemaker.sparksdk.algorithms.SageMakerImageURIProvider$.getImage(ImageURIProvider.scala:26)\n",
      "\tat com.amazonaws.services.sagemaker.sparksdk.algorithms.XGBoostSageMakerEstimator.<init>(XGBoostSageMakerEstimator.scala:513)\n",
      "\tat sun.reflect.NativeConstructorAccessorImpl.newInstance0(Native Method)\n",
      "\tat sun.reflect.NativeConstructorAccessorImpl.newInstance(NativeConstructorAccessorImpl.java:62)\n",
      "\tat sun.reflect.DelegatingConstructorAccessorImpl.newInstance(DelegatingConstructorAccessorImpl.java:45)\n",
      "\tat java.lang.reflect.Constructor.newInstance(Constructor.java:423)\n",
      "\tat py4j.reflection.MethodInvoker.invoke(MethodInvoker.java:247)\n",
      "\tat py4j.reflection.ReflectionEngine.invoke(ReflectionEngine.java:357)\n",
      "\tat py4j.Gateway.invoke(Gateway.java:236)\n",
      "\tat py4j.commands.ConstructorCommand.invokeConstructor(ConstructorCommand.java:80)\n",
      "\tat py4j.commands.ConstructorCommand.execute(ConstructorCommand.java:69)\n",
      "\tat py4j.GatewayConnection.run(GatewayConnection.java:214)\n",
      "\tat java.lang.Thread.run(Thread.java:748)\n",
      "\n",
      "\n"
     ]
    }
   ],
   "source": [
    "iam_role = 'arn:aws:iam::011905145951:role/AmazonSageMaker-ExecutionRole-Demo'\n",
    "\n",
    "region = 'us-west-2'\n",
    "s3_path = 's3://hyun-demo-kr/demo/kaggle/output'\n",
    "\n",
    "(\n",
    "    training_data.drop('features').write\n",
    "        .format('csv')\n",
    "        .mode('overwrite')\n",
    "        .save(s3_path)\n",
    ")\n",
    "\n",
    "xgboost_estimator = XGBoostSageMakerEstimator(\n",
    "    trainingInstanceType='ml.m4.xlarge',\n",
    "    trainingInstanceCount=1,\n",
    "    endpointInstanceType='ml.m4.xlarge',\n",
    "    endpointInitialInstanceCount=1,\n",
    "    trainingSparkDataFormat='csv',\n",
    "    trainingContentType='csv',\n",
    "    requestRowSerializer= serializers.UnlabeledCSVRequestRowSerializer(),\n",
    "    sagemakerRole=IAMRole(iam_role))\n",
    "\n",
    "xgboost_training_data = spark.read.csv(s3_path, sep=',', header='false', inferSchema='true')\n",
    "\n",
    "xgboost_estimator.setObjective('multi:softmax')\n",
    "xgboost_estimator.setNumRound(25)\n",
    "xgboost_estimator.setNumClasses(2)\n",
    "\n",
    "xgboost_model = xgboost_estimator.fit(xgboost_training_data)\n",
    "\n",
    "xgboost_prediction = xgboost_model.transform(test_data.select('features')).show()\n",
    "#xgboost_prediction.select('prediction', 'label', 'features').show()"
   ]
  },
  {
   "cell_type": "code",
   "execution_count": 57,
   "metadata": {},
   "outputs": [
    {
     "name": "stderr",
     "output_type": "stream",
     "text": [
      "'NoneType' object has no attribute '_jdf'\n",
      "Traceback (most recent call last):\n",
      "  File \"/mnt/yarn/usercache/livy/appcache/application_1563407178517_0006/container_1563407178517_0006_01_000001/pyspark.zip/pyspark/ml/evaluation.py\", line 69, in evaluate\n",
      "    return self._evaluate(dataset)\n",
      "  File \"/mnt/yarn/usercache/livy/appcache/application_1563407178517_0006/container_1563407178517_0006_01_000001/pyspark.zip/pyspark/ml/evaluation.py\", line 99, in _evaluate\n",
      "    return self._java_obj.evaluate(dataset._jdf)\n",
      "AttributeError: 'NoneType' object has no attribute '_jdf'\n",
      "\n"
     ]
    }
   ],
   "source": [
    "xgboost_accuracy = evaluator.evaluate(xgboost_prediction)\n",
    "print(\"Accuracy of Support Vector Machine is = %g\" % (xgboost_accuracy))\n",
    "print(\"Test Error of Support Vector Machine = %g \" % (1.0 - xgboost_accuracy))"
   ]
  },
  {
   "cell_type": "markdown",
   "metadata": {},
   "source": [
    "#### 4.9. Result"
   ]
  },
  {
   "cell_type": "markdown",
   "metadata": {},
   "source": [
    "##### 위 테스트에서는 LogisticRegression과 Support Vector Machine이 83.6257%의 정확도로 가장 좋은 성능을 보여주었습니다.\n",
    "##### 하지만, 아직 기본적인 테스트만 수행하였으므로 개선할 여지가 많이 남아있습니다."
   ]
  },
  {
   "cell_type": "markdown",
   "metadata": {},
   "source": [
    "### 5. Create your own model\n",
    "![kaggle_leaderboard](images/kaggle_leaderboard.png)\n",
    "#### 지금까지 다뤘던 기본적인 Feature engineering과 Modeling만으로 83.6%의 비교적 높은 정확도를 얻을 수 있었습니다. \n",
    "#### kaggle titanic competition에서 test 데이터에 대해서도 같은 정확도를 유지한다면 전체 10000명 중 상위 229등에 해당하는 높은 수치입니다. 하지만, 아직 개선할 여지가 많이 남아있습니다.\n",
    "#### * 첫 번째 접근할 수 있는 방법으로는 새로운 feacure를 추가하거나 기존 feature를 모델에서 제외하는 것입니다.\n",
    "#### * 두 번째 방법은 ML algorithm을 튜닝하는 것으로 아래 페이지를 참고하시면 됩니다.\n",
    "(https://spark.apache.org/docs/latest/ml-tuning.html) "
   ]
  },
  {
   "cell_type": "code",
   "execution_count": null,
   "metadata": {},
   "outputs": [],
   "source": []
  }
 ],
 "metadata": {
  "kernelspec": {
   "display_name": "Sparkmagic (PySpark)",
   "language": "",
   "name": "pysparkkernel"
  },
  "language_info": {
   "codemirror_mode": {
    "name": "python",
    "version": 2
   },
   "mimetype": "text/x-python",
   "name": "pyspark",
   "pygments_lexer": "python2"
  },
  "name": "01-kaggle-titanic-pyspark",
  "notebookId": 981946993289991
 },
 "nbformat": 4,
 "nbformat_minor": 4
}
